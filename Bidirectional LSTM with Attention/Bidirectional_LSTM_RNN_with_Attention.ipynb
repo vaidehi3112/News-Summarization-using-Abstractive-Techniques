{
  "cells": [
    {
      "cell_type": "markdown",
      "metadata": {
        "id": "view-in-github",
        "colab_type": "text"
      },
      "source": [
        "<a href=\"https://colab.research.google.com/github/shaival99/News-Summarization-using-Abstractive-Techniques/blob/main/Bidirectional%20LSTM%20with%20Attention/Bidirectional_LSTM_RNN_with_Attention.ipynb\" target=\"_parent\"><img src=\"https://colab.research.google.com/assets/colab-badge.svg\" alt=\"Open In Colab\"/></a>"
      ]
    },
    {
      "cell_type": "code",
      "execution_count": null,
      "id": "experimental-programming",
      "metadata": {
        "_cell_guid": "b1076dfc-b9ad-4769-8c92-a6c4dae69d19",
        "_uuid": "8f2839f25d086af736a60e9eeb907d3b93b6e0e5",
        "execution": {
          "iopub.execute_input": "2022-04-28T08:18:50.366329Z",
          "iopub.status.busy": "2022-04-28T08:18:50.365328Z",
          "iopub.status.idle": "2022-04-28T08:18:50.408262Z",
          "shell.execute_reply": "2022-04-28T08:18:50.407318Z",
          "shell.execute_reply.started": "2022-04-27T20:35:34.048437Z"
        },
        "papermill": {
          "duration": 0.117421,
          "end_time": "2022-04-28T08:18:50.408475",
          "exception": false,
          "start_time": "2022-04-28T08:18:50.291054",
          "status": "completed"
        },
        "tags": [],
        "id": "experimental-programming",
        "outputId": "3b4219f1-c0d2-421b-91ca-3cf9277e29df"
      },
      "outputs": [
        {
          "name": "stdout",
          "output_type": "stream",
          "text": [
            "/kaggle/input/glove6b/glove.6B.200d.txt\n",
            "/kaggle/input/glove6b/glove.6B.50d.txt\n",
            "/kaggle/input/glove6b/glove.6B.300d.txt\n",
            "/kaggle/input/glove6b/glove.6B.100d.txt\n",
            "/kaggle/input/newspaper-text-summarization-cnn-dailymail/cnn_dailymail/validation.csv\n",
            "/kaggle/input/newspaper-text-summarization-cnn-dailymail/cnn_dailymail/train.csv\n",
            "/kaggle/input/newspaper-text-summarization-cnn-dailymail/cnn_dailymail/test.csv\n",
            "/kaggle/input/news-summary/news_summary_more.csv\n",
            "/kaggle/input/news-summary/news_summary.csv\n"
          ]
        }
      ],
      "source": [
        "# This Python 3 environment comes with many helpful analytics libraries installed\n",
        "# It is defined by the kaggle/python Docker image: https://github.com/kaggle/docker-python\n",
        "# For example, here's several helpful packages to load\n",
        "\n",
        "import numpy as np # linear algebra\n",
        "import pandas as pd # data processing, CSV file I/O (e.g. pd.read_csv)\n",
        "\n",
        "# Input data files are available in the read-only \"../input/\" directory\n",
        "# For example, running this (by clicking run or pressing Shift+Enter) will list all files under the input directory\n",
        "\n",
        "import os\n",
        "for dirname, _, filenames in os.walk('/kaggle/input'):\n",
        "    for filename in filenames:\n",
        "        print(os.path.join(dirname, filename))\n",
        "\n",
        "# You can write up to 20GB to the current directory (/kaggle/working/) that gets preserved as output when you create a version using \"Save & Run All\" \n",
        "# You can also write temporary files to /kaggle/temp/, but they won't be saved outside of the current session"
      ]
    },
    {
      "cell_type": "code",
      "execution_count": null,
      "id": "piano-mirror",
      "metadata": {
        "execution": {
          "iopub.execute_input": "2022-04-28T08:18:50.570411Z",
          "iopub.status.busy": "2022-04-28T08:18:50.568645Z",
          "iopub.status.idle": "2022-04-28T08:18:51.412720Z",
          "shell.execute_reply": "2022-04-28T08:18:51.411543Z",
          "shell.execute_reply.started": "2022-04-27T20:35:34.523120Z"
        },
        "papermill": {
          "duration": 0.935048,
          "end_time": "2022-04-28T08:18:51.412880",
          "exception": false,
          "start_time": "2022-04-28T08:18:50.477832",
          "status": "completed"
        },
        "tags": [],
        "id": "piano-mirror"
      },
      "outputs": [],
      "source": [
        "# Loading Essential libraries \n",
        "import warnings\n",
        "warnings.filterwarnings('ignore')\n",
        "%config InlineBackend.figure_format = 'retina'\n",
        "%config Completer.use_jedi = False # this to force autocompletion \n",
        "from matplotlib import pyplot as plt\n",
        "import seaborn as sns"
      ]
    },
    {
      "cell_type": "code",
      "execution_count": null,
      "id": "imposed-tuition",
      "metadata": {
        "execution": {
          "iopub.execute_input": "2022-04-28T08:18:51.555330Z",
          "iopub.status.busy": "2022-04-28T08:18:51.554524Z",
          "iopub.status.idle": "2022-04-28T08:19:13.389421Z",
          "shell.execute_reply": "2022-04-28T08:19:13.388268Z",
          "shell.execute_reply.started": "2022-04-27T20:35:35.421487Z"
        },
        "papermill": {
          "duration": 21.906536,
          "end_time": "2022-04-28T08:19:13.389806",
          "exception": false,
          "start_time": "2022-04-28T08:18:51.483270",
          "status": "completed"
        },
        "tags": [],
        "id": "imposed-tuition"
      },
      "outputs": [],
      "source": [
        "df1 = pd.read_csv('../input/newspaper-text-summarization-cnn-dailymail/cnn_dailymail/train.csv', encoding= 'latin-1')\n",
        "df1 = df1.sample(frac=0.2)"
      ]
    },
    {
      "cell_type": "code",
      "execution_count": null,
      "id": "cross-bernard",
      "metadata": {
        "execution": {
          "iopub.execute_input": "2022-04-28T08:19:13.681009Z",
          "iopub.status.busy": "2022-04-28T08:19:13.679474Z",
          "iopub.status.idle": "2022-04-28T08:19:13.696603Z",
          "shell.execute_reply": "2022-04-28T08:19:13.696032Z",
          "shell.execute_reply.started": "2022-04-27T20:35:56.894818Z"
        },
        "papermill": {
          "duration": 0.236739,
          "end_time": "2022-04-28T08:19:13.696803",
          "exception": false,
          "start_time": "2022-04-28T08:19:13.460064",
          "status": "completed"
        },
        "tags": [],
        "id": "cross-bernard"
      },
      "outputs": [],
      "source": [
        "df1 = df1.drop(columns=['id'])"
      ]
    },
    {
      "cell_type": "code",
      "execution_count": null,
      "id": "national-closure",
      "metadata": {
        "execution": {
          "iopub.execute_input": "2022-04-28T08:19:13.839209Z",
          "iopub.status.busy": "2022-04-28T08:19:13.838128Z",
          "iopub.status.idle": "2022-04-28T08:19:13.848174Z",
          "shell.execute_reply": "2022-04-28T08:19:13.848747Z",
          "shell.execute_reply.started": "2022-04-27T20:35:56.925156Z"
        },
        "papermill": {
          "duration": 0.085735,
          "end_time": "2022-04-28T08:19:13.848894",
          "exception": false,
          "start_time": "2022-04-28T08:19:13.763159",
          "status": "completed"
        },
        "tags": [],
        "id": "national-closure",
        "outputId": "cebdb145-8020-46fd-d0d9-a5238d8c9f10"
      },
      "outputs": [
        {
          "data": {
            "text/html": [
              "<div>\n",
              "<style scoped>\n",
              "    .dataframe tbody tr th:only-of-type {\n",
              "        vertical-align: middle;\n",
              "    }\n",
              "\n",
              "    .dataframe tbody tr th {\n",
              "        vertical-align: top;\n",
              "    }\n",
              "\n",
              "    .dataframe thead th {\n",
              "        text-align: right;\n",
              "    }\n",
              "</style>\n",
              "<table border=\"1\" class=\"dataframe\">\n",
              "  <thead>\n",
              "    <tr style=\"text-align: right;\">\n",
              "      <th></th>\n",
              "      <th>article</th>\n",
              "      <th>highlights</th>\n",
              "    </tr>\n",
              "  </thead>\n",
              "  <tbody>\n",
              "    <tr>\n",
              "      <th>220940</th>\n",
              "      <td>As I circled the huge roundabout at the foot o...</td>\n",
              "      <td>Helen passed her driving test 22 years ago .\\n...</td>\n",
              "    </tr>\n",
              "    <tr>\n",
              "      <th>42558</th>\n",
              "      <td>When foreign dignitaries spend private time wi...</td>\n",
              "      <td>Photo of visit from New Zealand Prime Minister...</td>\n",
              "    </tr>\n",
              "    <tr>\n",
              "      <th>140402</th>\n",
              "      <td>LOS ANGELES, California (CNN) -- Mason Jenning...</td>\n",
              "      <td>Mason Jennings' new CD, \"Blood of Man,\" is ver...</td>\n",
              "    </tr>\n",
              "    <tr>\n",
              "      <th>194928</th>\n",
              "      <td>By . Lucy Crossley . PUBLISHED: . 05:05 EST, 1...</td>\n",
              "      <td>Timmy Wallace, 24, was beaten and tortured by ...</td>\n",
              "    </tr>\n",
              "    <tr>\n",
              "      <th>285401</th>\n",
              "      <td>By . Lucy Waterlow . PUBLISHED: . 12:44 EST, 8...</td>\n",
              "      <td>Proud mother joined her champion son at No 10 ...</td>\n",
              "    </tr>\n",
              "  </tbody>\n",
              "</table>\n",
              "</div>"
            ],
            "text/plain": [
              "                                                  article  \\\n",
              "220940  As I circled the huge roundabout at the foot o...   \n",
              "42558   When foreign dignitaries spend private time wi...   \n",
              "140402  LOS ANGELES, California (CNN) -- Mason Jenning...   \n",
              "194928  By . Lucy Crossley . PUBLISHED: . 05:05 EST, 1...   \n",
              "285401  By . Lucy Waterlow . PUBLISHED: . 12:44 EST, 8...   \n",
              "\n",
              "                                               highlights  \n",
              "220940  Helen passed her driving test 22 years ago .\\n...  \n",
              "42558   Photo of visit from New Zealand Prime Minister...  \n",
              "140402  Mason Jennings' new CD, \"Blood of Man,\" is ver...  \n",
              "194928  Timmy Wallace, 24, was beaten and tortured by ...  \n",
              "285401  Proud mother joined her champion son at No 10 ...  "
            ]
          },
          "execution_count": 5,
          "metadata": {},
          "output_type": "execute_result"
        }
      ],
      "source": [
        "df1.tail()"
      ]
    },
    {
      "cell_type": "markdown",
      "id": "favorite-spread",
      "metadata": {
        "papermill": {
          "duration": 0.066172,
          "end_time": "2022-04-28T08:19:13.981808",
          "exception": false,
          "start_time": "2022-04-28T08:19:13.915636",
          "status": "completed"
        },
        "tags": [],
        "id": "favorite-spread"
      },
      "source": [
        "### Lets do some text preprocessing "
      ]
    },
    {
      "cell_type": "code",
      "execution_count": null,
      "id": "controlling-smooth",
      "metadata": {
        "execution": {
          "iopub.execute_input": "2022-04-28T08:19:14.120468Z",
          "iopub.status.busy": "2022-04-28T08:19:14.119324Z",
          "iopub.status.idle": "2022-04-28T08:19:16.128662Z",
          "shell.execute_reply": "2022-04-28T08:19:16.129208Z",
          "shell.execute_reply.started": "2022-04-27T20:35:56.946041Z"
        },
        "papermill": {
          "duration": 2.08133,
          "end_time": "2022-04-28T08:19:16.129383",
          "exception": false,
          "start_time": "2022-04-28T08:19:14.048053",
          "status": "completed"
        },
        "tags": [],
        "id": "controlling-smooth"
      },
      "outputs": [],
      "source": [
        "df1['highlights'] = df1.highlights.apply(lambda x: x.lower())\n",
        "df1['article'] = df1.article.apply(lambda x: x.lower())"
      ]
    },
    {
      "cell_type": "code",
      "execution_count": null,
      "id": "biblical-speech",
      "metadata": {
        "execution": {
          "iopub.execute_input": "2022-04-28T08:19:16.432228Z",
          "iopub.status.busy": "2022-04-28T08:19:16.430749Z",
          "iopub.status.idle": "2022-04-28T08:19:31.365361Z",
          "shell.execute_reply": "2022-04-28T08:19:31.364663Z",
          "shell.execute_reply.started": "2022-04-27T20:35:58.564867Z"
        },
        "papermill": {
          "duration": 15.170054,
          "end_time": "2022-04-28T08:19:31.365523",
          "exception": false,
          "start_time": "2022-04-28T08:19:16.195469",
          "status": "completed"
        },
        "tags": [],
        "id": "biblical-speech",
        "outputId": "6ea1d3eb-cd45-48b5-ea1a-3363ec28dafb"
      },
      "outputs": [
        {
          "name": "stdout",
          "output_type": "stream",
          "text": [
            "Collecting text_hammer\r\n",
            "  Downloading text_hammer-0.1.5-py3-none-any.whl (7.6 kB)\r\n",
            "Requirement already satisfied: TextBlob in /opt/conda/lib/python3.7/site-packages (from text_hammer) (0.15.3)\r\n",
            "Collecting beautifulsoup4==4.9.1\r\n",
            "  Downloading beautifulsoup4-4.9.1-py3-none-any.whl (115 kB)\r\n",
            "\u001b[K     |████████████████████████████████| 115 kB 617 kB/s \r\n",
            "\u001b[?25hRequirement already satisfied: pandas in /opt/conda/lib/python3.7/site-packages (from text_hammer) (1.1.5)\r\n",
            "Requirement already satisfied: numpy in /opt/conda/lib/python3.7/site-packages (from text_hammer) (1.19.5)\r\n",
            "Requirement already satisfied: spacy in /opt/conda/lib/python3.7/site-packages (from text_hammer) (2.3.5)\r\n",
            "Collecting soupsieve>1.2\r\n",
            "  Downloading soupsieve-2.3.2.post1-py3-none-any.whl (37 kB)\r\n",
            "Requirement already satisfied: python-dateutil>=2.7.3 in /opt/conda/lib/python3.7/site-packages (from pandas->text_hammer) (2.8.1)\r\n",
            "Requirement already satisfied: pytz>=2017.2 in /opt/conda/lib/python3.7/site-packages (from pandas->text_hammer) (2021.1)\r\n",
            "Requirement already satisfied: six>=1.5 in /opt/conda/lib/python3.7/site-packages (from python-dateutil>=2.7.3->pandas->text_hammer) (1.15.0)\r\n",
            "Requirement already satisfied: preshed<3.1.0,>=3.0.2 in /opt/conda/lib/python3.7/site-packages (from spacy->text_hammer) (3.0.5)\r\n",
            "Requirement already satisfied: cymem<2.1.0,>=2.0.2 in /opt/conda/lib/python3.7/site-packages (from spacy->text_hammer) (2.0.5)\r\n",
            "Requirement already satisfied: catalogue<1.1.0,>=0.0.7 in /opt/conda/lib/python3.7/site-packages (from spacy->text_hammer) (1.0.0)\r\n",
            "Requirement already satisfied: thinc<7.5.0,>=7.4.1 in /opt/conda/lib/python3.7/site-packages (from spacy->text_hammer) (7.4.5)\r\n",
            "Requirement already satisfied: plac<1.2.0,>=0.9.6 in /opt/conda/lib/python3.7/site-packages (from spacy->text_hammer) (1.1.3)\r\n",
            "Requirement already satisfied: requests<3.0.0,>=2.13.0 in /opt/conda/lib/python3.7/site-packages (from spacy->text_hammer) (2.25.1)\r\n",
            "Requirement already satisfied: murmurhash<1.1.0,>=0.28.0 in /opt/conda/lib/python3.7/site-packages (from spacy->text_hammer) (1.0.5)\r\n",
            "Requirement already satisfied: tqdm<5.0.0,>=4.38.0 in /opt/conda/lib/python3.7/site-packages (from spacy->text_hammer) (4.56.2)\r\n",
            "Requirement already satisfied: wasabi<1.1.0,>=0.4.0 in /opt/conda/lib/python3.7/site-packages (from spacy->text_hammer) (0.8.2)\r\n",
            "Requirement already satisfied: srsly<1.1.0,>=1.0.2 in /opt/conda/lib/python3.7/site-packages (from spacy->text_hammer) (1.0.5)\r\n",
            "Requirement already satisfied: setuptools in /opt/conda/lib/python3.7/site-packages (from spacy->text_hammer) (49.6.0.post20210108)\r\n",
            "Requirement already satisfied: blis<0.8.0,>=0.4.0 in /opt/conda/lib/python3.7/site-packages (from spacy->text_hammer) (0.7.4)\r\n",
            "Requirement already satisfied: importlib-metadata>=0.20 in /opt/conda/lib/python3.7/site-packages (from catalogue<1.1.0,>=0.0.7->spacy->text_hammer) (3.4.0)\r\n",
            "Requirement already satisfied: zipp>=0.5 in /opt/conda/lib/python3.7/site-packages (from importlib-metadata>=0.20->catalogue<1.1.0,>=0.0.7->spacy->text_hammer) (3.4.0)\r\n",
            "Requirement already satisfied: typing-extensions>=3.6.4 in /opt/conda/lib/python3.7/site-packages (from importlib-metadata>=0.20->catalogue<1.1.0,>=0.0.7->spacy->text_hammer) (3.7.4.3)\r\n",
            "Requirement already satisfied: urllib3<1.27,>=1.21.1 in /opt/conda/lib/python3.7/site-packages (from requests<3.0.0,>=2.13.0->spacy->text_hammer) (1.26.3)\r\n",
            "Requirement already satisfied: idna<3,>=2.5 in /opt/conda/lib/python3.7/site-packages (from requests<3.0.0,>=2.13.0->spacy->text_hammer) (2.10)\r\n",
            "Requirement already satisfied: certifi>=2017.4.17 in /opt/conda/lib/python3.7/site-packages (from requests<3.0.0,>=2.13.0->spacy->text_hammer) (2020.12.5)\r\n",
            "Requirement already satisfied: chardet<5,>=3.0.2 in /opt/conda/lib/python3.7/site-packages (from requests<3.0.0,>=2.13.0->spacy->text_hammer) (3.0.4)\r\n",
            "Requirement already satisfied: nltk>=3.1 in /opt/conda/lib/python3.7/site-packages (from TextBlob->text_hammer) (3.2.4)\r\n",
            "Installing collected packages: soupsieve, beautifulsoup4, text-hammer\r\n",
            "Successfully installed beautifulsoup4-4.9.1 soupsieve-2.3.2.post1 text-hammer-0.1.5\r\n"
          ]
        }
      ],
      "source": [
        "!pip install text_hammer\n",
        "import  text_hammer as th"
      ]
    },
    {
      "cell_type": "code",
      "execution_count": null,
      "id": "wooden-paintball",
      "metadata": {
        "execution": {
          "iopub.execute_input": "2022-04-28T08:19:31.517946Z",
          "iopub.status.busy": "2022-04-28T08:19:31.517164Z",
          "iopub.status.idle": "2022-04-28T08:19:31.523974Z",
          "shell.execute_reply": "2022-04-28T08:19:31.524449Z",
          "shell.execute_reply.started": "2022-04-27T20:36:11.684915Z"
        },
        "papermill": {
          "duration": 0.085075,
          "end_time": "2022-04-28T08:19:31.524705",
          "exception": false,
          "start_time": "2022-04-28T08:19:31.439630",
          "status": "completed"
        },
        "tags": [],
        "id": "wooden-paintball",
        "outputId": "b1100008-4374-4de5-9479-b294730af0c0"
      },
      "outputs": [
        {
          "data": {
            "text/plain": [
              "(57423, 2)"
            ]
          },
          "execution_count": 8,
          "metadata": {},
          "output_type": "execute_result"
        }
      ],
      "source": [
        "df1.shape"
      ]
    },
    {
      "cell_type": "code",
      "execution_count": null,
      "id": "colored-strap",
      "metadata": {
        "execution": {
          "iopub.execute_input": "2022-04-28T08:19:31.679408Z",
          "iopub.status.busy": "2022-04-28T08:19:31.678378Z",
          "iopub.status.idle": "2022-04-28T08:19:31.682284Z",
          "shell.execute_reply": "2022-04-28T08:19:31.681697Z",
          "shell.execute_reply.started": "2022-04-27T20:36:11.693485Z"
        },
        "papermill": {
          "duration": 0.085597,
          "end_time": "2022-04-28T08:19:31.682425",
          "exception": false,
          "start_time": "2022-04-28T08:19:31.596828",
          "status": "completed"
        },
        "tags": [],
        "id": "colored-strap"
      },
      "outputs": [],
      "source": [
        "# Remove quotes \n",
        "def Text_cleaning(df, column):\n",
        "    column = column\n",
        "    print(column)\n",
        "    import re\n",
        "    \"\"\"column must be a string value\"\"\"\n",
        "    df[column] = df[column].progress_apply(lambda x: re.sub('\"',\"'\", x))\n",
        "    df[column] = df[column].progress_apply(lambda x:th.remove_special_chars(x))\n",
        "    df[column] = df[column].progress_apply(lambda x:th.remove_html_tags(x))\n",
        "    df[column] = df[column].progress_apply(lambda x: th.remove_urls(x))\n",
        "    df[column] = df[column].progress_apply(lambda x:th.cont_exp(x))\n",
        "    df[column] = df[column].progress_apply(lambda x: re.sub('[^a-zA-Z]+',' ', x))\n",
        "    df[column] = df[column].progress_apply(lambda x:' '.join([x for x in x.split() if len(x)>=2]) )\n",
        "    return df[column]\n",
        "\n"
      ]
    },
    {
      "cell_type": "code",
      "execution_count": null,
      "id": "cardiac-polish",
      "metadata": {
        "execution": {
          "iopub.execute_input": "2022-04-28T08:19:31.832320Z",
          "iopub.status.busy": "2022-04-28T08:19:31.831325Z",
          "iopub.status.idle": "2022-04-28T08:23:38.368161Z",
          "shell.execute_reply": "2022-04-28T08:23:38.365952Z",
          "shell.execute_reply.started": "2022-04-27T20:36:11.707539Z"
        },
        "papermill": {
          "duration": 246.614262,
          "end_time": "2022-04-28T08:23:38.368400",
          "exception": false,
          "start_time": "2022-04-28T08:19:31.754138",
          "status": "completed"
        },
        "tags": [],
        "colab": {
          "referenced_widgets": [
            "35fe2d3b6da24e4bbfa6b11eccf386fb",
            "f7bf5331bd0e417683f0b28d9f01dd1b",
            "a4e16a57ef1e45c8b6cdfc276e0b63db",
            "c86f629d340f49718d442b258debb900",
            "1f1aef69c55b4080a8304a80c93105d7",
            "cef373f33aae4177964d48a1900dea78",
            "5a4f385a10d44ab99969791d0bb8976f"
          ]
        },
        "id": "cardiac-polish",
        "outputId": "5adf429a-0d8f-4433-dbbe-6beb93ba48ab"
      },
      "outputs": [
        {
          "name": "stdout",
          "output_type": "stream",
          "text": [
            "highlights\n"
          ]
        },
        {
          "data": {
            "application/vnd.jupyter.widget-view+json": {
              "model_id": "35fe2d3b6da24e4bbfa6b11eccf386fb",
              "version_major": 2,
              "version_minor": 0
            },
            "text/plain": [
              "  0%|          | 0/57423 [00:00<?, ?it/s]"
            ]
          },
          "metadata": {},
          "output_type": "display_data"
        },
        {
          "data": {
            "application/vnd.jupyter.widget-view+json": {
              "model_id": "f7bf5331bd0e417683f0b28d9f01dd1b",
              "version_major": 2,
              "version_minor": 0
            },
            "text/plain": [
              "  0%|          | 0/57423 [00:00<?, ?it/s]"
            ]
          },
          "metadata": {},
          "output_type": "display_data"
        },
        {
          "data": {
            "application/vnd.jupyter.widget-view+json": {
              "model_id": "a4e16a57ef1e45c8b6cdfc276e0b63db",
              "version_major": 2,
              "version_minor": 0
            },
            "text/plain": [
              "  0%|          | 0/57423 [00:00<?, ?it/s]"
            ]
          },
          "metadata": {},
          "output_type": "display_data"
        },
        {
          "data": {
            "application/vnd.jupyter.widget-view+json": {
              "model_id": "c86f629d340f49718d442b258debb900",
              "version_major": 2,
              "version_minor": 0
            },
            "text/plain": [
              "  0%|          | 0/57423 [00:00<?, ?it/s]"
            ]
          },
          "metadata": {},
          "output_type": "display_data"
        },
        {
          "data": {
            "application/vnd.jupyter.widget-view+json": {
              "model_id": "1f1aef69c55b4080a8304a80c93105d7",
              "version_major": 2,
              "version_minor": 0
            },
            "text/plain": [
              "  0%|          | 0/57423 [00:00<?, ?it/s]"
            ]
          },
          "metadata": {},
          "output_type": "display_data"
        },
        {
          "data": {
            "application/vnd.jupyter.widget-view+json": {
              "model_id": "cef373f33aae4177964d48a1900dea78",
              "version_major": 2,
              "version_minor": 0
            },
            "text/plain": [
              "  0%|          | 0/57423 [00:00<?, ?it/s]"
            ]
          },
          "metadata": {},
          "output_type": "display_data"
        },
        {
          "data": {
            "application/vnd.jupyter.widget-view+json": {
              "model_id": "5a4f385a10d44ab99969791d0bb8976f",
              "version_major": 2,
              "version_minor": 0
            },
            "text/plain": [
              "  0%|          | 0/57423 [00:00<?, ?it/s]"
            ]
          },
          "metadata": {},
          "output_type": "display_data"
        }
      ],
      "source": [
        "cleaned_highlights = Text_cleaning(df1, 'highlights')"
      ]
    },
    {
      "cell_type": "code",
      "execution_count": null,
      "id": "handled-province",
      "metadata": {
        "execution": {
          "iopub.execute_input": "2022-04-28T08:23:38.558745Z",
          "iopub.status.busy": "2022-04-28T08:23:38.557503Z",
          "iopub.status.idle": "2022-04-28T09:03:40.550160Z",
          "shell.execute_reply": "2022-04-28T09:03:40.548079Z",
          "shell.execute_reply.started": "2022-04-27T20:39:43.501969Z"
        },
        "papermill": {
          "duration": 2402.10263,
          "end_time": "2022-04-28T09:03:40.550310",
          "exception": false,
          "start_time": "2022-04-28T08:23:38.447680",
          "status": "completed"
        },
        "tags": [],
        "colab": {
          "referenced_widgets": [
            "b389ea291d25457d818798f625bc0381",
            "f2473aab266b4982820a16c0474bcedb",
            "c852fb8b0fde41e7a4a887bf2bfec868",
            "2b0ecc36938a47a8b6e21040a41bd1a5",
            "1626b567788d480ca82a8101c0ae87bd",
            "694c6b7b1fca4e0dac00f1c2c06825ba",
            "d336ea9cd4104d2d958e50475558835c"
          ]
        },
        "id": "handled-province",
        "outputId": "226a136d-c2dc-4d74-f06b-7af8eecaf1de"
      },
      "outputs": [
        {
          "name": "stdout",
          "output_type": "stream",
          "text": [
            "article\n"
          ]
        },
        {
          "data": {
            "application/vnd.jupyter.widget-view+json": {
              "model_id": "b389ea291d25457d818798f625bc0381",
              "version_major": 2,
              "version_minor": 0
            },
            "text/plain": [
              "  0%|          | 0/57423 [00:00<?, ?it/s]"
            ]
          },
          "metadata": {},
          "output_type": "display_data"
        },
        {
          "data": {
            "application/vnd.jupyter.widget-view+json": {
              "model_id": "f2473aab266b4982820a16c0474bcedb",
              "version_major": 2,
              "version_minor": 0
            },
            "text/plain": [
              "  0%|          | 0/57423 [00:00<?, ?it/s]"
            ]
          },
          "metadata": {},
          "output_type": "display_data"
        },
        {
          "data": {
            "application/vnd.jupyter.widget-view+json": {
              "model_id": "c852fb8b0fde41e7a4a887bf2bfec868",
              "version_major": 2,
              "version_minor": 0
            },
            "text/plain": [
              "  0%|          | 0/57423 [00:00<?, ?it/s]"
            ]
          },
          "metadata": {},
          "output_type": "display_data"
        },
        {
          "data": {
            "application/vnd.jupyter.widget-view+json": {
              "model_id": "2b0ecc36938a47a8b6e21040a41bd1a5",
              "version_major": 2,
              "version_minor": 0
            },
            "text/plain": [
              "  0%|          | 0/57423 [00:00<?, ?it/s]"
            ]
          },
          "metadata": {},
          "output_type": "display_data"
        },
        {
          "data": {
            "application/vnd.jupyter.widget-view+json": {
              "model_id": "1626b567788d480ca82a8101c0ae87bd",
              "version_major": 2,
              "version_minor": 0
            },
            "text/plain": [
              "  0%|          | 0/57423 [00:00<?, ?it/s]"
            ]
          },
          "metadata": {},
          "output_type": "display_data"
        },
        {
          "data": {
            "application/vnd.jupyter.widget-view+json": {
              "model_id": "694c6b7b1fca4e0dac00f1c2c06825ba",
              "version_major": 2,
              "version_minor": 0
            },
            "text/plain": [
              "  0%|          | 0/57423 [00:00<?, ?it/s]"
            ]
          },
          "metadata": {},
          "output_type": "display_data"
        },
        {
          "data": {
            "application/vnd.jupyter.widget-view+json": {
              "model_id": "d336ea9cd4104d2d958e50475558835c",
              "version_major": 2,
              "version_minor": 0
            },
            "text/plain": [
              "  0%|          | 0/57423 [00:00<?, ?it/s]"
            ]
          },
          "metadata": {},
          "output_type": "display_data"
        }
      ],
      "source": [
        "cleaned_article = Text_cleaning(df1, 'article')"
      ]
    },
    {
      "cell_type": "code",
      "execution_count": null,
      "id": "canadian-baltimore",
      "metadata": {
        "execution": {
          "iopub.execute_input": "2022-04-28T09:03:40.758911Z",
          "iopub.status.busy": "2022-04-28T09:03:40.757679Z",
          "iopub.status.idle": "2022-04-28T09:03:40.762785Z",
          "shell.execute_reply": "2022-04-28T09:03:40.762238Z",
          "shell.execute_reply.started": "2022-04-27T21:17:05.368088Z"
        },
        "papermill": {
          "duration": 0.133638,
          "end_time": "2022-04-28T09:03:40.762917",
          "exception": false,
          "start_time": "2022-04-28T09:03:40.629279",
          "status": "completed"
        },
        "tags": [],
        "id": "canadian-baltimore",
        "outputId": "014c8bb0-84ab-48e5-a322-1a20749c7fc2"
      },
      "outputs": [
        {
          "data": {
            "text/html": [
              "<div>\n",
              "<style scoped>\n",
              "    .dataframe tbody tr th:only-of-type {\n",
              "        vertical-align: middle;\n",
              "    }\n",
              "\n",
              "    .dataframe tbody tr th {\n",
              "        vertical-align: top;\n",
              "    }\n",
              "\n",
              "    .dataframe thead th {\n",
              "        text-align: right;\n",
              "    }\n",
              "</style>\n",
              "<table border=\"1\" class=\"dataframe\">\n",
              "  <thead>\n",
              "    <tr style=\"text-align: right;\">\n",
              "      <th></th>\n",
              "      <th>highlights</th>\n",
              "      <th>article</th>\n",
              "    </tr>\n",
              "  </thead>\n",
              "  <tbody>\n",
              "    <tr>\n",
              "      <th>33917</th>\n",
              "      <td>hotel guests who go green are happier with the...</td>\n",
              "      <td>dan condon believes in recycling just not when...</td>\n",
              "    </tr>\n",
              "    <tr>\n",
              "      <th>92272</th>\n",
              "      <td>hunger games fans can find many of the locatio...</td>\n",
              "      <td>cnnwhen people think of city that stands in fo...</td>\n",
              "    </tr>\n",
              "    <tr>\n",
              "      <th>264812</th>\n",
              "      <td>brendan rodgers says england rush to put press...</td>\n",
              "      <td>liverpool forward raheem sterling needs protec...</td>\n",
              "    </tr>\n",
              "    <tr>\n",
              "      <th>222181</th>\n",
              "      <td>purgatorius was small mammal that lived on die...</td>\n",
              "      <td>earths earliest primates have taken step up in...</td>\n",
              "    </tr>\n",
              "    <tr>\n",
              "      <th>183625</th>\n",
              "      <td>plant operators will begin the delicate work o...</td>\n",
              "      <td>cnn more than two years after an earthquake an...</td>\n",
              "    </tr>\n",
              "  </tbody>\n",
              "</table>\n",
              "</div>"
            ],
            "text/plain": [
              "                                               highlights  \\\n",
              "33917   hotel guests who go green are happier with the...   \n",
              "92272   hunger games fans can find many of the locatio...   \n",
              "264812  brendan rodgers says england rush to put press...   \n",
              "222181  purgatorius was small mammal that lived on die...   \n",
              "183625  plant operators will begin the delicate work o...   \n",
              "\n",
              "                                                  article  \n",
              "33917   dan condon believes in recycling just not when...  \n",
              "92272   cnnwhen people think of city that stands in fo...  \n",
              "264812  liverpool forward raheem sterling needs protec...  \n",
              "222181  earths earliest primates have taken step up in...  \n",
              "183625  cnn more than two years after an earthquake an...  "
            ]
          },
          "execution_count": 12,
          "metadata": {},
          "output_type": "execute_result"
        }
      ],
      "source": [
        "cleaned_df1 = pd.DataFrame({'highlights': cleaned_highlights, 'article': cleaned_article})\n",
        "cleaned_df1.head()"
      ]
    },
    {
      "cell_type": "code",
      "execution_count": null,
      "id": "welsh-oracle",
      "metadata": {
        "execution": {
          "iopub.execute_input": "2022-04-28T09:03:40.929441Z",
          "iopub.status.busy": "2022-04-28T09:03:40.928516Z",
          "iopub.status.idle": "2022-04-28T09:03:48.995414Z",
          "shell.execute_reply": "2022-04-28T09:03:48.994231Z",
          "shell.execute_reply.started": "2022-04-27T21:17:05.389517Z"
        },
        "papermill": {
          "duration": 8.151618,
          "end_time": "2022-04-28T09:03:48.995588",
          "exception": false,
          "start_time": "2022-04-28T09:03:40.843970",
          "status": "completed"
        },
        "tags": [],
        "id": "welsh-oracle"
      },
      "outputs": [],
      "source": [
        "cleaned_df1.to_csv('newdf1_cleaned.csv', index = False)"
      ]
    },
    {
      "cell_type": "code",
      "execution_count": null,
      "id": "chubby-google",
      "metadata": {
        "execution": {
          "iopub.execute_input": "2022-04-28T09:03:49.158877Z",
          "iopub.status.busy": "2022-04-28T09:03:49.157790Z",
          "iopub.status.idle": "2022-04-28T09:03:51.325202Z",
          "shell.execute_reply": "2022-04-28T09:03:51.324061Z",
          "shell.execute_reply.started": "2022-04-27T21:17:14.120485Z"
        },
        "papermill": {
          "duration": 2.251143,
          "end_time": "2022-04-28T09:03:51.325353",
          "exception": false,
          "start_time": "2022-04-28T09:03:49.074210",
          "status": "completed"
        },
        "tags": [],
        "id": "chubby-google"
      },
      "outputs": [],
      "source": [
        "cleaned_df1 = pd.read_csv('./newdf1_cleaned.csv')"
      ]
    },
    {
      "cell_type": "markdown",
      "id": "impaired-reliance",
      "metadata": {
        "papermill": {
          "duration": 0.07941,
          "end_time": "2022-04-28T09:03:51.484644",
          "exception": false,
          "start_time": "2022-04-28T09:03:51.405234",
          "status": "completed"
        },
        "tags": [],
        "id": "impaired-reliance"
      },
      "source": [
        "### Some analysis to decide the max_len_headlines and max_len_text"
      ]
    },
    {
      "cell_type": "code",
      "execution_count": null,
      "id": "vocal-marina",
      "metadata": {
        "execution": {
          "iopub.execute_input": "2022-04-28T09:03:51.663767Z",
          "iopub.status.busy": "2022-04-28T09:03:51.662986Z",
          "iopub.status.idle": "2022-04-28T09:03:58.624480Z",
          "shell.execute_reply": "2022-04-28T09:03:58.623805Z",
          "shell.execute_reply.started": "2022-04-27T21:17:15.966786Z"
        },
        "papermill": {
          "duration": 7.064011,
          "end_time": "2022-04-28T09:03:58.624647",
          "exception": false,
          "start_time": "2022-04-28T09:03:51.560636",
          "status": "completed"
        },
        "tags": [],
        "id": "vocal-marina",
        "outputId": "56d14738-3acc-44b4-9a82-b3e3ea870e25"
      },
      "outputs": [
        {
          "data": {
            "image/png": "[encoded data removed]",
            "text/plain": [
              "<Figure size 864x432 with 2 Axes>"
            ]
          },
          "metadata": {
            "image/png": {
              "height": 390,
              "width": 738
            },
            "needs_background": "light"
          },
          "output_type": "display_data"
        }
      ],
      "source": [
        "plt.figure(figsize=(12,6))\n",
        "plt.style.use('ggplot')\n",
        "plt.subplot(1, 2, 1)\n",
        "sns.distplot(df1['highlights'].str.split().apply(len))\n",
        "plt.title('Distribution of headlines sentences length')\n",
        "plt.xlabel('Length')\n",
        "\n",
        "plt.style.use('ggplot')\n",
        "plt.subplot(1, 2, 2)\n",
        "sns.distplot(df1['article'].str.split().apply(len))\n",
        "plt.title('Distribution of text sentences length')\n",
        "plt.xlabel('Length')\n",
        "plt.show()"
      ]
    },
    {
      "cell_type": "code",
      "execution_count": null,
      "id": "handed-morgan",
      "metadata": {
        "execution": {
          "iopub.execute_input": "2022-04-28T09:03:58.790209Z",
          "iopub.status.busy": "2022-04-28T09:03:58.789059Z",
          "iopub.status.idle": "2022-04-28T09:03:58.852053Z",
          "shell.execute_reply": "2022-04-28T09:03:58.850823Z",
          "shell.execute_reply.started": "2022-04-27T21:17:22.608003Z"
        },
        "papermill": {
          "duration": 0.147987,
          "end_time": "2022-04-28T09:03:58.852227",
          "exception": false,
          "start_time": "2022-04-28T09:03:58.704240",
          "status": "completed"
        },
        "tags": [],
        "id": "handed-morgan"
      },
      "outputs": [],
      "source": [
        "cleaned_df1['highlights'] = cleaned_df1.highlights.apply(lambda x: 'sostok ' +str(x) + ' eostok')"
      ]
    },
    {
      "cell_type": "code",
      "execution_count": null,
      "id": "coated-direction",
      "metadata": {
        "execution": {
          "iopub.execute_input": "2022-04-28T09:03:59.026970Z",
          "iopub.status.busy": "2022-04-28T09:03:59.025844Z",
          "iopub.status.idle": "2022-04-28T09:03:59.031306Z",
          "shell.execute_reply": "2022-04-28T09:03:59.030795Z",
          "shell.execute_reply.started": "2022-04-27T21:17:22.668283Z"
        },
        "papermill": {
          "duration": 0.094768,
          "end_time": "2022-04-28T09:03:59.031476",
          "exception": false,
          "start_time": "2022-04-28T09:03:58.936708",
          "status": "completed"
        },
        "tags": [],
        "id": "coated-direction",
        "outputId": "a798d3fb-0e03-4651-8c23-7c98742b38aa"
      },
      "outputs": [
        {
          "data": {
            "text/html": [
              "<div>\n",
              "<style scoped>\n",
              "    .dataframe tbody tr th:only-of-type {\n",
              "        vertical-align: middle;\n",
              "    }\n",
              "\n",
              "    .dataframe tbody tr th {\n",
              "        vertical-align: top;\n",
              "    }\n",
              "\n",
              "    .dataframe thead th {\n",
              "        text-align: right;\n",
              "    }\n",
              "</style>\n",
              "<table border=\"1\" class=\"dataframe\">\n",
              "  <thead>\n",
              "    <tr style=\"text-align: right;\">\n",
              "      <th></th>\n",
              "      <th>highlights</th>\n",
              "      <th>article</th>\n",
              "    </tr>\n",
              "  </thead>\n",
              "  <tbody>\n",
              "    <tr>\n",
              "      <th>0</th>\n",
              "      <td>sostok hotel guests who go green are happier w...</td>\n",
              "      <td>dan condon believes in recycling just not when...</td>\n",
              "    </tr>\n",
              "    <tr>\n",
              "      <th>1</th>\n",
              "      <td>sostok hunger games fans can find many of the ...</td>\n",
              "      <td>cnnwhen people think of city that stands in fo...</td>\n",
              "    </tr>\n",
              "    <tr>\n",
              "      <th>2</th>\n",
              "      <td>sostok brendan rodgers says england rush to pu...</td>\n",
              "      <td>liverpool forward raheem sterling needs protec...</td>\n",
              "    </tr>\n",
              "    <tr>\n",
              "      <th>3</th>\n",
              "      <td>sostok purgatorius was small mammal that lived...</td>\n",
              "      <td>earths earliest primates have taken step up in...</td>\n",
              "    </tr>\n",
              "    <tr>\n",
              "      <th>4</th>\n",
              "      <td>sostok plant operators will begin the delicate...</td>\n",
              "      <td>cnn more than two years after an earthquake an...</td>\n",
              "    </tr>\n",
              "  </tbody>\n",
              "</table>\n",
              "</div>"
            ],
            "text/plain": [
              "                                          highlights  \\\n",
              "0  sostok hotel guests who go green are happier w...   \n",
              "1  sostok hunger games fans can find many of the ...   \n",
              "2  sostok brendan rodgers says england rush to pu...   \n",
              "3  sostok purgatorius was small mammal that lived...   \n",
              "4  sostok plant operators will begin the delicate...   \n",
              "\n",
              "                                             article  \n",
              "0  dan condon believes in recycling just not when...  \n",
              "1  cnnwhen people think of city that stands in fo...  \n",
              "2  liverpool forward raheem sterling needs protec...  \n",
              "3  earths earliest primates have taken step up in...  \n",
              "4  cnn more than two years after an earthquake an...  "
            ]
          },
          "execution_count": 17,
          "metadata": {},
          "output_type": "execute_result"
        }
      ],
      "source": [
        "cleaned_df1.head()"
      ]
    },
    {
      "cell_type": "code",
      "execution_count": null,
      "id": "polyphonic-tender",
      "metadata": {
        "execution": {
          "iopub.execute_input": "2022-04-28T09:03:59.197840Z",
          "iopub.status.busy": "2022-04-28T09:03:59.196828Z",
          "iopub.status.idle": "2022-04-28T09:04:01.671967Z",
          "shell.execute_reply": "2022-04-28T09:04:01.671352Z",
          "shell.execute_reply.started": "2022-04-27T21:17:22.680963Z"
        },
        "papermill": {
          "duration": 2.561407,
          "end_time": "2022-04-28T09:04:01.672157",
          "exception": false,
          "start_time": "2022-04-28T09:03:59.110750",
          "status": "completed"
        },
        "tags": [],
        "id": "polyphonic-tender"
      },
      "outputs": [],
      "source": [
        "cleaned_df1['len_highlights'] = cleaned_df1.highlights.apply(lambda x: len(x.split()))\n",
        "cleaned_df1['len_article'] = cleaned_df1.article.apply(lambda x:len(x.split()))"
      ]
    },
    {
      "cell_type": "code",
      "execution_count": null,
      "id": "detailed-tampa",
      "metadata": {
        "execution": {
          "iopub.execute_input": "2022-04-28T09:04:01.845980Z",
          "iopub.status.busy": "2022-04-28T09:04:01.844806Z",
          "iopub.status.idle": "2022-04-28T09:04:01.848549Z",
          "shell.execute_reply": "2022-04-28T09:04:01.849131Z",
          "shell.execute_reply.started": "2022-04-27T21:17:25.092802Z"
        },
        "papermill": {
          "duration": 0.095393,
          "end_time": "2022-04-28T09:04:01.849269",
          "exception": false,
          "start_time": "2022-04-28T09:04:01.753876",
          "status": "completed"
        },
        "tags": [],
        "id": "detailed-tampa",
        "outputId": "931e470d-57c6-4dfd-ad28-9bcabbda419e"
      },
      "outputs": [
        {
          "data": {
            "text/html": [
              "<div>\n",
              "<style scoped>\n",
              "    .dataframe tbody tr th:only-of-type {\n",
              "        vertical-align: middle;\n",
              "    }\n",
              "\n",
              "    .dataframe tbody tr th {\n",
              "        vertical-align: top;\n",
              "    }\n",
              "\n",
              "    .dataframe thead th {\n",
              "        text-align: right;\n",
              "    }\n",
              "</style>\n",
              "<table border=\"1\" class=\"dataframe\">\n",
              "  <thead>\n",
              "    <tr style=\"text-align: right;\">\n",
              "      <th></th>\n",
              "      <th>highlights</th>\n",
              "      <th>article</th>\n",
              "      <th>len_highlights</th>\n",
              "      <th>len_article</th>\n",
              "    </tr>\n",
              "  </thead>\n",
              "  <tbody>\n",
              "    <tr>\n",
              "      <th>0</th>\n",
              "      <td>sostok hotel guests who go green are happier w...</td>\n",
              "      <td>dan condon believes in recycling just not when...</td>\n",
              "      <td>53</td>\n",
              "      <td>1601</td>\n",
              "    </tr>\n",
              "    <tr>\n",
              "      <th>1</th>\n",
              "      <td>sostok hunger games fans can find many of the ...</td>\n",
              "      <td>cnnwhen people think of city that stands in fo...</td>\n",
              "      <td>33</td>\n",
              "      <td>309</td>\n",
              "    </tr>\n",
              "    <tr>\n",
              "      <th>2</th>\n",
              "      <td>sostok brendan rodgers says england rush to pu...</td>\n",
              "      <td>liverpool forward raheem sterling needs protec...</td>\n",
              "      <td>57</td>\n",
              "      <td>842</td>\n",
              "    </tr>\n",
              "    <tr>\n",
              "      <th>3</th>\n",
              "      <td>sostok purgatorius was small mammal that lived...</td>\n",
              "      <td>earths earliest primates have taken step up in...</td>\n",
              "      <td>22</td>\n",
              "      <td>732</td>\n",
              "    </tr>\n",
              "    <tr>\n",
              "      <th>4</th>\n",
              "      <td>sostok plant operators will begin the delicate...</td>\n",
              "      <td>cnn more than two years after an earthquake an...</td>\n",
              "      <td>52</td>\n",
              "      <td>317</td>\n",
              "    </tr>\n",
              "  </tbody>\n",
              "</table>\n",
              "</div>"
            ],
            "text/plain": [
              "                                          highlights  \\\n",
              "0  sostok hotel guests who go green are happier w...   \n",
              "1  sostok hunger games fans can find many of the ...   \n",
              "2  sostok brendan rodgers says england rush to pu...   \n",
              "3  sostok purgatorius was small mammal that lived...   \n",
              "4  sostok plant operators will begin the delicate...   \n",
              "\n",
              "                                             article  len_highlights  \\\n",
              "0  dan condon believes in recycling just not when...              53   \n",
              "1  cnnwhen people think of city that stands in fo...              33   \n",
              "2  liverpool forward raheem sterling needs protec...              57   \n",
              "3  earths earliest primates have taken step up in...              22   \n",
              "4  cnn more than two years after an earthquake an...              52   \n",
              "\n",
              "   len_article  \n",
              "0         1601  \n",
              "1          309  \n",
              "2          842  \n",
              "3          732  \n",
              "4          317  "
            ]
          },
          "execution_count": 19,
          "metadata": {},
          "output_type": "execute_result"
        }
      ],
      "source": [
        "cleaned_df1.head()"
      ]
    },
    {
      "cell_type": "markdown",
      "id": "connected-aspect",
      "metadata": {
        "papermill": {
          "duration": 0.084329,
          "end_time": "2022-04-28T09:04:02.016755",
          "exception": false,
          "start_time": "2022-04-28T09:04:01.932426",
          "status": "completed"
        },
        "tags": [],
        "id": "connected-aspect"
      },
      "source": [
        "#### here for deciding the length of the text we need to understand the distribution of the graph"
      ]
    },
    {
      "cell_type": "code",
      "execution_count": null,
      "id": "delayed-documentary",
      "metadata": {
        "execution": {
          "iopub.execute_input": "2022-04-28T09:04:02.189721Z",
          "iopub.status.busy": "2022-04-28T09:04:02.188788Z",
          "iopub.status.idle": "2022-04-28T09:04:02.202693Z",
          "shell.execute_reply": "2022-04-28T09:04:02.203344Z",
          "shell.execute_reply.started": "2022-04-27T21:17:25.107314Z"
        },
        "papermill": {
          "duration": 0.102419,
          "end_time": "2022-04-28T09:04:02.203525",
          "exception": false,
          "start_time": "2022-04-28T09:04:02.101106",
          "status": "completed"
        },
        "tags": [],
        "id": "delayed-documentary",
        "outputId": "75723974-82ae-4173-bb34-9f7542521a76"
      },
      "outputs": [
        {
          "name": "stdout",
          "output_type": "stream",
          "text": [
            "80 percentile value is 59\n",
            "('100 percentile value is ', 820)\n",
            "85 percentile value is 63\n",
            "('100 percentile value is ', 820)\n",
            "90 percentile value is 70\n",
            "('100 percentile value is ', 820)\n",
            "95 percentile value is 82\n",
            "('100 percentile value is ', 820)\n"
          ]
        }
      ],
      "source": [
        "for i in range(80,100,5):\n",
        "    var = cleaned_df1['len_highlights'].values\n",
        "    var = np.sort(var, axis = None)\n",
        "    print('{} percentile value is {}'.format(i, var[int(len(var)*(float(i)/100))]))\n",
        "    print((\"100 percentile value is \", var[-1]))"
      ]
    },
    {
      "cell_type": "code",
      "execution_count": null,
      "id": "supposed-temple",
      "metadata": {
        "execution": {
          "iopub.execute_input": "2022-04-28T09:04:02.383971Z",
          "iopub.status.busy": "2022-04-28T09:04:02.383012Z",
          "iopub.status.idle": "2022-04-28T09:04:02.401433Z",
          "shell.execute_reply": "2022-04-28T09:04:02.401992Z",
          "shell.execute_reply.started": "2022-04-27T21:17:25.129795Z"
        },
        "papermill": {
          "duration": 0.113953,
          "end_time": "2022-04-28T09:04:02.402185",
          "exception": false,
          "start_time": "2022-04-28T09:04:02.288232",
          "status": "completed"
        },
        "tags": [],
        "id": "supposed-temple",
        "outputId": "b546593f-d9ce-48dd-f16b-75d0a58dfbb9"
      },
      "outputs": [
        {
          "name": "stdout",
          "output_type": "stream",
          "text": [
            "80 percentile value is 889\n",
            "('100 percentile value is ', 1871)\n",
            "85 percentile value is 971\n",
            "('100 percentile value is ', 1871)\n",
            "90 percentile value is 1088\n",
            "('100 percentile value is ', 1871)\n",
            "95 percentile value is 1273\n",
            "('100 percentile value is ', 1871)\n"
          ]
        }
      ],
      "source": [
        "for i in range(80,100,5):\n",
        "    var = cleaned_df1['len_article'].values\n",
        "    var = np.sort(var, axis = None)\n",
        "    print('{} percentile value is {}'.format(i, var[int(len(var)*(float(i)/100))]))\n",
        "    print((\"100 percentile value is \", var[-1]))"
      ]
    },
    {
      "cell_type": "code",
      "execution_count": null,
      "id": "random-delta",
      "metadata": {
        "execution": {
          "iopub.execute_input": "2022-04-28T09:04:02.569144Z",
          "iopub.status.busy": "2022-04-28T09:04:02.568095Z",
          "iopub.status.idle": "2022-04-28T09:04:02.571370Z",
          "shell.execute_reply": "2022-04-28T09:04:02.570869Z",
          "shell.execute_reply.started": "2022-04-27T21:17:25.153825Z"
        },
        "papermill": {
          "duration": 0.08794,
          "end_time": "2022-04-28T09:04:02.571522",
          "exception": false,
          "start_time": "2022-04-28T09:04:02.483582",
          "status": "completed"
        },
        "tags": [],
        "id": "random-delta"
      },
      "outputs": [],
      "source": [
        "max_len_article = 1000\n",
        "\n",
        "max_len_highlights = 90"
      ]
    },
    {
      "cell_type": "markdown",
      "id": "imported-vacation",
      "metadata": {
        "papermill": {
          "duration": 0.081543,
          "end_time": "2022-04-28T09:04:02.734578",
          "exception": false,
          "start_time": "2022-04-28T09:04:02.653035",
          "status": "completed"
        },
        "tags": [],
        "id": "imported-vacation"
      },
      "source": [
        "#### This is most important step to filter out those sentences who follows condition"
      ]
    },
    {
      "cell_type": "code",
      "execution_count": null,
      "id": "confidential-breach",
      "metadata": {
        "execution": {
          "iopub.execute_input": "2022-04-28T09:04:02.899891Z",
          "iopub.status.busy": "2022-04-28T09:04:02.898871Z",
          "iopub.status.idle": "2022-04-28T09:04:02.910831Z",
          "shell.execute_reply": "2022-04-28T09:04:02.910265Z",
          "shell.execute_reply.started": "2022-04-27T21:17:25.159683Z"
        },
        "papermill": {
          "duration": 0.095982,
          "end_time": "2022-04-28T09:04:02.910956",
          "exception": false,
          "start_time": "2022-04-28T09:04:02.814974",
          "status": "completed"
        },
        "tags": [],
        "id": "confidential-breach"
      },
      "outputs": [],
      "source": [
        "cleaned_df1 = cleaned_df1[(cleaned_df1.len_article <= 1000)*(cleaned_df1.len_highlights <= 90)]"
      ]
    },
    {
      "cell_type": "code",
      "execution_count": null,
      "id": "overall-plenty",
      "metadata": {
        "execution": {
          "iopub.execute_input": "2022-04-28T09:04:03.086363Z",
          "iopub.status.busy": "2022-04-28T09:04:03.085143Z",
          "iopub.status.idle": "2022-04-28T09:04:03.090949Z",
          "shell.execute_reply": "2022-04-28T09:04:03.090332Z",
          "shell.execute_reply.started": "2022-04-27T21:17:25.175768Z"
        },
        "papermill": {
          "duration": 0.099721,
          "end_time": "2022-04-28T09:04:03.091078",
          "exception": false,
          "start_time": "2022-04-28T09:04:02.991357",
          "status": "completed"
        },
        "tags": [],
        "id": "overall-plenty",
        "outputId": "1db017a2-c75b-43b0-8491-09daecf1b7e5"
      },
      "outputs": [
        {
          "data": {
            "text/html": [
              "<div>\n",
              "<style scoped>\n",
              "    .dataframe tbody tr th:only-of-type {\n",
              "        vertical-align: middle;\n",
              "    }\n",
              "\n",
              "    .dataframe tbody tr th {\n",
              "        vertical-align: top;\n",
              "    }\n",
              "\n",
              "    .dataframe thead th {\n",
              "        text-align: right;\n",
              "    }\n",
              "</style>\n",
              "<table border=\"1\" class=\"dataframe\">\n",
              "  <thead>\n",
              "    <tr style=\"text-align: right;\">\n",
              "      <th></th>\n",
              "      <th>highlights</th>\n",
              "      <th>article</th>\n",
              "      <th>len_highlights</th>\n",
              "      <th>len_article</th>\n",
              "    </tr>\n",
              "  </thead>\n",
              "  <tbody>\n",
              "    <tr>\n",
              "      <th>1</th>\n",
              "      <td>sostok hunger games fans can find many of the ...</td>\n",
              "      <td>cnnwhen people think of city that stands in fo...</td>\n",
              "      <td>33</td>\n",
              "      <td>309</td>\n",
              "    </tr>\n",
              "    <tr>\n",
              "      <th>2</th>\n",
              "      <td>sostok brendan rodgers says england rush to pu...</td>\n",
              "      <td>liverpool forward raheem sterling needs protec...</td>\n",
              "      <td>57</td>\n",
              "      <td>842</td>\n",
              "    </tr>\n",
              "    <tr>\n",
              "      <th>3</th>\n",
              "      <td>sostok purgatorius was small mammal that lived...</td>\n",
              "      <td>earths earliest primates have taken step up in...</td>\n",
              "      <td>22</td>\n",
              "      <td>732</td>\n",
              "    </tr>\n",
              "    <tr>\n",
              "      <th>4</th>\n",
              "      <td>sostok plant operators will begin the delicate...</td>\n",
              "      <td>cnn more than two years after an earthquake an...</td>\n",
              "      <td>52</td>\n",
              "      <td>317</td>\n",
              "    </tr>\n",
              "    <tr>\n",
              "      <th>5</th>\n",
              "      <td>sostok dozens killed when militants raid sunni...</td>\n",
              "      <td>cnn at least people were killed early sunday w...</td>\n",
              "      <td>40</td>\n",
              "      <td>393</td>\n",
              "    </tr>\n",
              "  </tbody>\n",
              "</table>\n",
              "</div>"
            ],
            "text/plain": [
              "                                          highlights  \\\n",
              "1  sostok hunger games fans can find many of the ...   \n",
              "2  sostok brendan rodgers says england rush to pu...   \n",
              "3  sostok purgatorius was small mammal that lived...   \n",
              "4  sostok plant operators will begin the delicate...   \n",
              "5  sostok dozens killed when militants raid sunni...   \n",
              "\n",
              "                                             article  len_highlights  \\\n",
              "1  cnnwhen people think of city that stands in fo...              33   \n",
              "2  liverpool forward raheem sterling needs protec...              57   \n",
              "3  earths earliest primates have taken step up in...              22   \n",
              "4  cnn more than two years after an earthquake an...              52   \n",
              "5  cnn at least people were killed early sunday w...              40   \n",
              "\n",
              "   len_article  \n",
              "1          309  \n",
              "2          842  \n",
              "3          732  \n",
              "4          317  \n",
              "5          393  "
            ]
          },
          "execution_count": 24,
          "metadata": {},
          "output_type": "execute_result"
        }
      ],
      "source": [
        "cleaned_df1.head()"
      ]
    },
    {
      "cell_type": "code",
      "execution_count": null,
      "id": "confirmed-mount",
      "metadata": {
        "execution": {
          "iopub.execute_input": "2022-04-28T09:04:03.259864Z",
          "iopub.status.busy": "2022-04-28T09:04:03.259032Z",
          "iopub.status.idle": "2022-04-28T09:04:03.265378Z",
          "shell.execute_reply": "2022-04-28T09:04:03.264849Z",
          "shell.execute_reply.started": "2022-04-27T21:17:25.187923Z"
        },
        "papermill": {
          "duration": 0.09215,
          "end_time": "2022-04-28T09:04:03.265503",
          "exception": false,
          "start_time": "2022-04-28T09:04:03.173353",
          "status": "completed"
        },
        "tags": [],
        "id": "confirmed-mount",
        "outputId": "d1728dc9-61b0-4a39-c908-91185008cccb"
      },
      "outputs": [
        {
          "data": {
            "text/plain": [
              "(48631, 4)"
            ]
          },
          "execution_count": 25,
          "metadata": {},
          "output_type": "execute_result"
        }
      ],
      "source": [
        "cleaned_df1.shape"
      ]
    },
    {
      "cell_type": "code",
      "execution_count": null,
      "id": "blessed-covering",
      "metadata": {
        "execution": {
          "iopub.execute_input": "2022-04-28T09:04:03.439952Z",
          "iopub.status.busy": "2022-04-28T09:04:03.438930Z",
          "iopub.status.idle": "2022-04-28T09:04:03.443812Z",
          "shell.execute_reply": "2022-04-28T09:04:03.443295Z",
          "shell.execute_reply.started": "2022-04-27T21:17:25.197745Z"
        },
        "papermill": {
          "duration": 0.095239,
          "end_time": "2022-04-28T09:04:03.443938",
          "exception": false,
          "start_time": "2022-04-28T09:04:03.348699",
          "status": "completed"
        },
        "tags": [],
        "id": "blessed-covering",
        "outputId": "554718a1-0a11-4198-c527-eadb04f3daa9"
      },
      "outputs": [
        {
          "data": {
            "text/plain": [
              "1000"
            ]
          },
          "execution_count": 26,
          "metadata": {},
          "output_type": "execute_result"
        }
      ],
      "source": [
        "cleaned_df1.len_article.max()"
      ]
    },
    {
      "cell_type": "markdown",
      "id": "detected-government",
      "metadata": {
        "papermill": {
          "duration": 0.087158,
          "end_time": "2022-04-28T09:04:03.616297",
          "exception": false,
          "start_time": "2022-04-28T09:04:03.529139",
          "status": "completed"
        },
        "tags": [],
        "id": "detected-government"
      },
      "source": [
        "#### Dividing our data for train test split"
      ]
    },
    {
      "cell_type": "code",
      "execution_count": null,
      "id": "ranging-behalf",
      "metadata": {
        "execution": {
          "iopub.execute_input": "2022-04-28T09:04:03.798202Z",
          "iopub.status.busy": "2022-04-28T09:04:03.796812Z",
          "iopub.status.idle": "2022-04-28T09:04:03.811207Z",
          "shell.execute_reply": "2022-04-28T09:04:03.809648Z",
          "shell.execute_reply.started": "2022-04-27T21:17:25.207198Z"
        },
        "papermill": {
          "duration": 0.108294,
          "end_time": "2022-04-28T09:04:03.811352",
          "exception": false,
          "start_time": "2022-04-28T09:04:03.703058",
          "status": "completed"
        },
        "tags": [],
        "id": "ranging-behalf"
      },
      "outputs": [],
      "source": [
        "from sklearn.model_selection import train_test_split\n",
        "X_train1,X_test1,y_train1,y_test1 = train_test_split(\n",
        "cleaned_df1.article, cleaned_df1.highlights, test_size = 0.2, random_state = 32, shuffle = True)"
      ]
    },
    {
      "cell_type": "code",
      "execution_count": null,
      "id": "stuffed-withdrawal",
      "metadata": {
        "execution": {
          "iopub.execute_input": "2022-04-28T09:04:03.985281Z",
          "iopub.status.busy": "2022-04-28T09:04:03.984232Z",
          "iopub.status.idle": "2022-04-28T09:04:03.989425Z",
          "shell.execute_reply": "2022-04-28T09:04:03.988973Z",
          "shell.execute_reply.started": "2022-04-27T21:17:25.227089Z"
        },
        "papermill": {
          "duration": 0.093224,
          "end_time": "2022-04-28T09:04:03.989548",
          "exception": false,
          "start_time": "2022-04-28T09:04:03.896324",
          "status": "completed"
        },
        "tags": [],
        "id": "stuffed-withdrawal",
        "outputId": "9c6c6c99-ec04-4cdb-d3c9-4618cda0a663"
      },
      "outputs": [
        {
          "name": "stdout",
          "output_type": "stream",
          "text": [
            "(38904,) (9727,)\n"
          ]
        }
      ],
      "source": [
        "print(X_train1.shape, y_test1.shape)"
      ]
    },
    {
      "cell_type": "markdown",
      "id": "widespread-address",
      "metadata": {
        "papermill": {
          "duration": 0.083899,
          "end_time": "2022-04-28T09:04:04.158926",
          "exception": false,
          "start_time": "2022-04-28T09:04:04.075027",
          "status": "completed"
        },
        "tags": [],
        "id": "widespread-address"
      },
      "source": [
        "### Time to prepare data "
      ]
    },
    {
      "cell_type": "code",
      "execution_count": null,
      "id": "thermal-vermont",
      "metadata": {
        "execution": {
          "iopub.execute_input": "2022-04-28T09:04:04.333317Z",
          "iopub.status.busy": "2022-04-28T09:04:04.332408Z",
          "iopub.status.idle": "2022-04-28T09:04:32.368042Z",
          "shell.execute_reply": "2022-04-28T09:04:32.366599Z",
          "shell.execute_reply.started": "2022-04-27T21:17:25.235342Z"
        },
        "papermill": {
          "duration": 28.124953,
          "end_time": "2022-04-28T09:04:32.368248",
          "exception": false,
          "start_time": "2022-04-28T09:04:04.243295",
          "status": "completed"
        },
        "tags": [],
        "id": "thermal-vermont"
      },
      "outputs": [],
      "source": [
        "num_words_x= 35000\n",
        "num_words_y = 25000\n",
        "from keras.preprocessing.text import Tokenizer\n",
        "from keras.preprocessing.sequence import pad_sequences\n",
        "\n",
        "x_tokenizer1 = Tokenizer(filters='|', num_words = num_words_x)\n",
        "y_tokenizer1 = Tokenizer(filters='|', num_words = num_words_y)\n",
        "\n",
        "x_tokenizer1.fit_on_texts(cleaned_df1.article)\n",
        "y_tokenizer1.fit_on_texts(cleaned_df1.highlights)"
      ]
    },
    {
      "cell_type": "code",
      "execution_count": null,
      "id": "worth-investigation",
      "metadata": {
        "execution": {
          "iopub.execute_input": "2022-04-28T09:04:32.540672Z",
          "iopub.status.busy": "2022-04-28T09:04:32.539763Z",
          "iopub.status.idle": "2022-04-28T09:04:32.543381Z",
          "shell.execute_reply": "2022-04-28T09:04:32.542855Z",
          "shell.execute_reply.started": "2022-04-27T21:17:49.238190Z"
        },
        "papermill": {
          "duration": 0.089224,
          "end_time": "2022-04-28T09:04:32.543517",
          "exception": false,
          "start_time": "2022-04-28T09:04:32.454293",
          "status": "completed"
        },
        "tags": [],
        "id": "worth-investigation"
      },
      "outputs": [],
      "source": [
        "x_voc1 = len(x_tokenizer1.word_index) + 1\n",
        "y_voc1 = len(y_tokenizer1.word_index) + 1"
      ]
    },
    {
      "cell_type": "code",
      "execution_count": null,
      "id": "caroline-swing",
      "metadata": {
        "execution": {
          "iopub.execute_input": "2022-04-28T09:04:32.762298Z",
          "iopub.status.busy": "2022-04-28T09:04:32.741797Z",
          "iopub.status.idle": "2022-04-28T09:04:56.071669Z",
          "shell.execute_reply": "2022-04-28T09:04:56.071090Z",
          "shell.execute_reply.started": "2022-04-27T21:17:49.244425Z"
        },
        "papermill": {
          "duration": 23.446811,
          "end_time": "2022-04-28T09:04:56.071952",
          "exception": false,
          "start_time": "2022-04-28T09:04:32.625141",
          "status": "completed"
        },
        "tags": [],
        "id": "caroline-swing"
      },
      "outputs": [],
      "source": [
        "y_tr_seq1    =   y_tokenizer1.texts_to_sequences(y_train1) \n",
        "y_val_seq1   =   y_tokenizer1.texts_to_sequences(y_test1) \n",
        "\n",
        "#padding zero upto maximum length\n",
        "y_tr1    =   pad_sequences(y_tr_seq1, maxlen=max_len_highlights, padding='post')\n",
        "y_val1   =   pad_sequences(y_val_seq1, maxlen=max_len_highlights, padding='post')\n",
        "\n",
        "#convert text sequences into integer sequences (i.e one-hot encodeing all the words)\n",
        "x_tr_seq1    =   x_tokenizer1.texts_to_sequences(X_train1) \n",
        "x_val_seq1   =   x_tokenizer1.texts_to_sequences(X_test1)\n",
        "\n",
        "#padding zero upto maximum length\n",
        "x_tr1    =   pad_sequences(x_tr_seq1,  maxlen=max_len_article, padding='post')\n",
        "x_val1   =   pad_sequences(x_val_seq1, maxlen=max_len_article, padding='post')"
      ]
    },
    {
      "cell_type": "code",
      "execution_count": null,
      "id": "requested-cream",
      "metadata": {
        "execution": {
          "iopub.execute_input": "2022-04-28T09:04:56.244652Z",
          "iopub.status.busy": "2022-04-28T09:04:56.243785Z",
          "iopub.status.idle": "2022-04-28T09:04:56.249413Z",
          "shell.execute_reply": "2022-04-28T09:04:56.248240Z",
          "shell.execute_reply.started": "2022-04-27T21:18:10.370119Z"
        },
        "papermill": {
          "duration": 0.092569,
          "end_time": "2022-04-28T09:04:56.249543",
          "exception": false,
          "start_time": "2022-04-28T09:04:56.156974",
          "status": "completed"
        },
        "tags": [],
        "id": "requested-cream",
        "outputId": "29468e3d-ccfd-4add-f774-f2a5c52477fd"
      },
      "outputs": [
        {
          "name": "stdout",
          "output_type": "stream",
          "text": [
            "(38904, 1000) (38904, 90)\n"
          ]
        }
      ],
      "source": [
        "print(x_tr1.shape, y_tr1.shape)"
      ]
    },
    {
      "cell_type": "markdown",
      "id": "relevant-apparatus",
      "metadata": {
        "papermill": {
          "duration": 0.082507,
          "end_time": "2022-04-28T09:04:56.414331",
          "exception": false,
          "start_time": "2022-04-28T09:04:56.331824",
          "status": "completed"
        },
        "tags": [],
        "id": "relevant-apparatus"
      },
      "source": [
        "### We are going to use word embedding (glove vectors ) "
      ]
    },
    {
      "cell_type": "code",
      "execution_count": null,
      "id": "yellow-champion",
      "metadata": {
        "execution": {
          "iopub.execute_input": "2022-04-28T09:04:56.587847Z",
          "iopub.status.busy": "2022-04-28T09:04:56.587123Z",
          "iopub.status.idle": "2022-04-28T09:05:39.811740Z",
          "shell.execute_reply": "2022-04-28T09:05:39.812945Z",
          "shell.execute_reply.started": "2022-04-27T21:18:10.381325Z"
        },
        "papermill": {
          "duration": 43.313313,
          "end_time": "2022-04-28T09:05:39.813220",
          "exception": false,
          "start_time": "2022-04-28T09:04:56.499907",
          "status": "completed"
        },
        "tags": [],
        "id": "yellow-champion"
      },
      "outputs": [],
      "source": [
        "## using 300 dimension word2vec model, since more dimension means more information\n",
        "glove_vectors = {}\n",
        "file = open('../input/glove6b/glove.6B.300d.txt', encoding = 'utf-8')\n",
        "for line in file:\n",
        "    values = line.split()\n",
        "    word = values[0]\n",
        "    vectors = np.asarray(values[1:])\n",
        "    glove_vectors[word] = vectors\n",
        "file.close()   "
      ]
    },
    {
      "cell_type": "markdown",
      "id": "monetary-virus",
      "metadata": {
        "papermill": {
          "duration": 0.083999,
          "end_time": "2022-04-28T09:05:40.033236",
          "exception": false,
          "start_time": "2022-04-28T09:05:39.949237",
          "status": "completed"
        },
        "tags": [],
        "id": "monetary-virus"
      },
      "source": [
        "#### if word not available in our glove vector then that word will get 0 weightage"
      ]
    },
    {
      "cell_type": "code",
      "execution_count": null,
      "id": "sophisticated-wages",
      "metadata": {
        "execution": {
          "iopub.execute_input": "2022-04-28T09:05:40.208788Z",
          "iopub.status.busy": "2022-04-28T09:05:40.207704Z",
          "iopub.status.idle": "2022-04-28T09:05:40.213059Z",
          "shell.execute_reply": "2022-04-28T09:05:40.212506Z",
          "shell.execute_reply.started": "2022-04-27T21:18:49.034053Z"
        },
        "papermill": {
          "duration": 0.094995,
          "end_time": "2022-04-28T09:05:40.213190",
          "exception": false,
          "start_time": "2022-04-28T09:05:40.118195",
          "status": "completed"
        },
        "tags": [],
        "id": "sophisticated-wages",
        "outputId": "ccd73a41-83fb-4f19-c0bd-dd6536a0204c"
      },
      "outputs": [
        {
          "data": {
            "text/plain": [
              "(35000, 300)"
            ]
          },
          "execution_count": 34,
          "metadata": {},
          "output_type": "execute_result"
        }
      ],
      "source": [
        "glove_emb_matrix1 = np.zeros((num_words_x,300))\n",
        "glove_emb_matrix1.shape"
      ]
    },
    {
      "cell_type": "code",
      "execution_count": null,
      "id": "monetary-shoulder",
      "metadata": {
        "execution": {
          "iopub.execute_input": "2022-04-28T09:05:40.449387Z",
          "iopub.status.busy": "2022-04-28T09:05:40.423358Z",
          "iopub.status.idle": "2022-04-28T09:05:46.807207Z",
          "shell.execute_reply": "2022-04-28T09:05:46.806455Z",
          "shell.execute_reply.started": "2022-04-27T21:18:49.042600Z"
        },
        "papermill": {
          "duration": 6.507933,
          "end_time": "2022-04-28T09:05:46.807476",
          "exception": false,
          "start_time": "2022-04-28T09:05:40.299543",
          "status": "completed"
        },
        "tags": [],
        "id": "monetary-shoulder",
        "outputId": "9d4eaa48-3f7e-4e05-8689-dce58a048cc3"
      },
      "outputs": [
        {
          "name": "stdout",
          "output_type": "stream",
          "text": [
            "CPU times: user 6.35 s, sys: 52.8 ms, total: 6.41 s\n",
            "Wall time: 6.41 s\n"
          ]
        }
      ],
      "source": [
        "%%time\n",
        "for word, index in x_tokenizer1.word_index.items():\n",
        "    if index < num_words_x: # since index starts with zero \n",
        "        embedding_vector = glove_vectors.get(word)\n",
        "        if embedding_vector is not None:\n",
        "            glove_emb_matrix1[index] = embedding_vector\n",
        "    "
      ]
    },
    {
      "cell_type": "markdown",
      "id": "political-tanzania",
      "metadata": {
        "papermill": {
          "duration": 0.083432,
          "end_time": "2022-04-28T09:05:47.148744",
          "exception": false,
          "start_time": "2022-04-28T09:05:47.065312",
          "status": "completed"
        },
        "tags": [],
        "id": "political-tanzania"
      },
      "source": [
        "### Importing libraries for designing our architecture "
      ]
    },
    {
      "cell_type": "code",
      "execution_count": null,
      "id": "maritime-committee",
      "metadata": {
        "execution": {
          "iopub.execute_input": "2022-04-28T09:05:47.323449Z",
          "iopub.status.busy": "2022-04-28T09:05:47.322383Z",
          "iopub.status.idle": "2022-04-28T09:05:47.402543Z",
          "shell.execute_reply": "2022-04-28T09:05:47.403048Z",
          "shell.execute_reply.started": "2022-04-27T21:18:55.145635Z"
        },
        "papermill": {
          "duration": 0.171292,
          "end_time": "2022-04-28T09:05:47.403202",
          "exception": false,
          "start_time": "2022-04-28T09:05:47.231910",
          "status": "completed"
        },
        "tags": [],
        "id": "maritime-committee"
      },
      "outputs": [],
      "source": [
        "from tensorflow.keras import models\n",
        "import numpy as np\n",
        "from tensorflow.keras.models import Sequential, Model\n",
        "from tensorflow.keras.layers import LSTM, Bidirectional,Concatenate\n",
        "from tensorflow.keras.layers import Dense, Flatten,Embedding\n",
        "from tensorflow.keras import Input\n",
        "from tensorflow.keras.layers import TimeDistributed\n",
        "from tensorflow.keras.layers import RepeatVector\n",
        "from tensorflow.keras.callbacks import EarlyStopping\n",
        "from tensorflow.keras.models import load_model\n",
        "from tensorflow.keras.utils import plot_model\n",
        "from keras.layers import Input,Dense, Activation, concatenate, Embedding, Flatten, Bidirectional, Concatenate\n",
        " \n",
        "from tensorflow.compat.v1.keras.layers import CuDNNLSTM\n",
        "from keras import optimizers\n"
      ]
    },
    {
      "cell_type": "markdown",
      "id": "julian-watson",
      "metadata": {
        "papermill": {
          "duration": 0.084046,
          "end_time": "2022-04-28T09:05:47.573428",
          "exception": false,
          "start_time": "2022-04-28T09:05:47.489382",
          "status": "completed"
        },
        "tags": [],
        "id": "julian-watson"
      },
      "source": [
        "### This is attention layer and can be used in teacher forcing"
      ]
    },
    {
      "cell_type": "code",
      "execution_count": null,
      "id": "prospective-letter",
      "metadata": {
        "execution": {
          "iopub.execute_input": "2022-04-28T09:05:47.796023Z",
          "iopub.status.busy": "2022-04-28T09:05:47.789956Z",
          "iopub.status.idle": "2022-04-28T09:05:47.800320Z",
          "shell.execute_reply": "2022-04-28T09:05:47.799699Z",
          "shell.execute_reply.started": "2022-04-27T21:18:55.244497Z"
        },
        "papermill": {
          "duration": 0.140969,
          "end_time": "2022-04-28T09:05:47.800488",
          "exception": false,
          "start_time": "2022-04-28T09:05:47.659519",
          "status": "completed"
        },
        "tags": [],
        "id": "prospective-letter"
      },
      "outputs": [],
      "source": [
        "# now we will have to make attention classs\n",
        "import tensorflow as tf\n",
        "import os\n",
        "from tensorflow.python.keras.layers import Layer\n",
        "from tensorflow.python.keras import backend as K\n",
        "\n",
        "\n",
        "class AttentionLayer(Layer):\n",
        "    \"\"\"\n",
        "    This class implements Bahdanau attention (https://arxiv.org/pdf/1409.0473.pdf).\n",
        "    There are three sets of weights introduced W_a, U_a, and V_a\n",
        "     \"\"\"\n",
        "\n",
        "    def __init__(self, **kwargs):\n",
        "        super(AttentionLayer, self).__init__(**kwargs)\n",
        "\n",
        "    def build(self, input_shape):\n",
        "        assert isinstance(input_shape, list)\n",
        "        # Create a trainable weight variable for this layer.\n",
        "\n",
        "        self.W_a = self.add_weight(name='W_a',\n",
        "                                   shape=tf.TensorShape((input_shape[0][2], input_shape[0][2])),\n",
        "                                   initializer='uniform',\n",
        "                                   trainable=True)\n",
        "        self.U_a = self.add_weight(name='U_a',\n",
        "                                   shape=tf.TensorShape((input_shape[1][2], input_shape[0][2])),\n",
        "                                   initializer='uniform',\n",
        "                                   trainable=True)\n",
        "        self.V_a = self.add_weight(name='V_a',\n",
        "                                   shape=tf.TensorShape((input_shape[0][2], 1)),\n",
        "                                   initializer='uniform',\n",
        "                                   trainable=True)\n",
        "\n",
        "        super(AttentionLayer, self).build(input_shape)  # Be sure to call this at the end\n",
        "\n",
        "    def call(self, inputs, verbose=False):\n",
        "        \"\"\"\n",
        "        inputs: [encoder_output_sequence, decoder_output_sequence]\n",
        "        \"\"\"\n",
        "        assert type(inputs) == list\n",
        "        encoder_out_seq, decoder_out_seq = inputs\n",
        "        if verbose:\n",
        "            print('encoder_out_seq>', encoder_out_seq.shape)\n",
        "            print('decoder_out_seq>', decoder_out_seq.shape)\n",
        "\n",
        "        def energy_step(inputs, states):\n",
        "            \"\"\" Step function for computing energy for a single decoder state\n",
        "            inputs: (batchsize * 1 * de_in_dim)\n",
        "            states: (batchsize * 1 * de_latent_dim)\n",
        "            \"\"\"\n",
        "\n",
        "            assert_msg = \"States must be an iterable. Got {} of type {}\".format(states, type(states))\n",
        "            assert isinstance(states, list) or isinstance(states, tuple), assert_msg\n",
        "\n",
        "            \"\"\" Some parameters required for shaping tensors\"\"\"\n",
        "            en_seq_len, en_hidden = encoder_out_seq.shape[1], encoder_out_seq.shape[2]\n",
        "            de_hidden = inputs.shape[-1]\n",
        "\n",
        "            \"\"\" Computing S.Wa where S=[s0, s1, ..., si]\"\"\"\n",
        "            # <= batch size * en_seq_len * latent_dim\n",
        "            W_a_dot_s = K.dot(encoder_out_seq, self.W_a)\n",
        "\n",
        "            \"\"\" Computing hj.Ua \"\"\"\n",
        "            U_a_dot_h = K.expand_dims(K.dot(inputs, self.U_a), 1)  # <= batch_size, 1, latent_dim\n",
        "            if verbose:\n",
        "                print('Ua.h>', U_a_dot_h.shape)\n",
        "\n",
        "            \"\"\" tanh(S.Wa + hj.Ua) \"\"\"\n",
        "            # <= batch_size*en_seq_len, latent_dim\n",
        "            Ws_plus_Uh = K.tanh(W_a_dot_s + U_a_dot_h)\n",
        "            if verbose:\n",
        "                print('Ws+Uh>', Ws_plus_Uh.shape)\n",
        "\n",
        "            \"\"\" softmax(va.tanh(S.Wa + hj.Ua)) \"\"\"\n",
        "            # <= batch_size, en_seq_len\n",
        "            e_i = K.squeeze(K.dot(Ws_plus_Uh, self.V_a), axis=-1)\n",
        "            # <= batch_size, en_seq_len\n",
        "            e_i = K.softmax(e_i)\n",
        "\n",
        "            if verbose:\n",
        "                print('ei>', e_i.shape)\n",
        "\n",
        "            return e_i, [e_i]\n",
        "\n",
        "        \n",
        "        def context_step(inputs, states):\n",
        "            \"\"\" Step function for computing ci using ei \"\"\"\n",
        "\n",
        "            assert_msg = \"States must be an iterable. Got {} of type {}\".format(states, type(states))\n",
        "            assert isinstance(states, list) or isinstance(states, tuple), assert_msg\n",
        "\n",
        "            # <= batch_size, hidden_size\n",
        "            c_i = K.sum(encoder_out_seq * K.expand_dims(inputs, -1), axis=1)\n",
        "            if verbose:\n",
        "                print('ci>', c_i.shape)\n",
        "            return c_i, [c_i]\n",
        "\n",
        "        fake_state_c = K.sum(encoder_out_seq, axis=1)\n",
        "        fake_state_e = K.sum(encoder_out_seq, axis=2)  # <= (batch_size, enc_seq_len, latent_dim\n",
        "\n",
        "        \"\"\" Computing energy outputs \"\"\"\n",
        "        # e_outputs => (batch_size, de_seq_len, en_seq_len)\n",
        "        last_out, e_outputs, _ = K.rnn(\n",
        "            energy_step, decoder_out_seq, [fake_state_e],\n",
        "        )\n",
        "\n",
        "        \"\"\" Computing context vectors \"\"\"\n",
        "        last_out, c_outputs, _ = K.rnn(\n",
        "            context_step, e_outputs, [fake_state_c],\n",
        "        )\n",
        "\n",
        "        return c_outputs, e_outputs\n",
        "\n",
        "    def compute_output_shape(self, input_shape):\n",
        "        \"\"\" Outputs produced by the layer \"\"\"\n",
        "        return [\n",
        "            tf.TensorShape((input_shape[1][0], input_shape[1][1], input_shape[1][2])),\n",
        "            tf.TensorShape((input_shape[1][0], input_shape[1][1], input_shape[0][1]))\n",
        "        ]"
      ]
    },
    {
      "cell_type": "code",
      "execution_count": null,
      "id": "elder-parks",
      "metadata": {
        "execution": {
          "iopub.execute_input": "2022-04-28T09:05:47.981623Z",
          "iopub.status.busy": "2022-04-28T09:05:47.980516Z",
          "iopub.status.idle": "2022-04-28T09:05:47.985621Z",
          "shell.execute_reply": "2022-04-28T09:05:47.985054Z",
          "shell.execute_reply.started": "2022-04-27T21:18:55.268944Z"
        },
        "papermill": {
          "duration": 0.099091,
          "end_time": "2022-04-28T09:05:47.985790",
          "exception": false,
          "start_time": "2022-04-28T09:05:47.886699",
          "status": "completed"
        },
        "tags": [],
        "id": "elder-parks",
        "outputId": "48c6617a-5b31-4d60-9b42-333d49a161a3"
      },
      "outputs": [
        {
          "data": {
            "text/plain": [
              "(38904, 90)"
            ]
          },
          "execution_count": 38,
          "metadata": {},
          "output_type": "execute_result"
        }
      ],
      "source": [
        "y_tr1.shape"
      ]
    },
    {
      "cell_type": "markdown",
      "id": "hidden-locator",
      "metadata": {
        "papermill": {
          "duration": 0.086139,
          "end_time": "2022-04-28T09:05:48.156248",
          "exception": false,
          "start_time": "2022-04-28T09:05:48.070109",
          "status": "completed"
        },
        "tags": [],
        "id": "hidden-locator"
      },
      "source": [
        "### lets design our model architecture for training"
      ]
    },
    {
      "cell_type": "code",
      "execution_count": null,
      "id": "possible-father",
      "metadata": {
        "execution": {
          "iopub.execute_input": "2022-04-28T09:05:48.341710Z",
          "iopub.status.busy": "2022-04-28T09:05:48.340824Z",
          "iopub.status.idle": "2022-04-28T09:05:55.458212Z",
          "shell.execute_reply": "2022-04-28T09:05:55.457198Z",
          "shell.execute_reply.started": "2022-04-27T21:18:55.277869Z"
        },
        "papermill": {
          "duration": 7.215797,
          "end_time": "2022-04-28T09:05:55.458439",
          "exception": false,
          "start_time": "2022-04-28T09:05:48.242642",
          "status": "completed"
        },
        "tags": [],
        "id": "possible-father",
        "outputId": "44d78e71-611f-484d-a65e-65e27a86a2be"
      },
      "outputs": [
        {
          "name": "stdout",
          "output_type": "stream",
          "text": [
            "Model: \"model\"\n",
            "__________________________________________________________________________________________________\n",
            "Layer (type)                    Output Shape         Param #     Connected to                     \n",
            "==================================================================================================\n",
            "input_1 (InputLayer)            [(None, 1000)]       0                                            \n",
            "__________________________________________________________________________________________________\n",
            "embedding (Embedding)           (None, 1000, 300)    10500000    input_1[0][0]                    \n",
            "__________________________________________________________________________________________________\n",
            "input_2 (InputLayer)            [(None, None)]       0                                            \n",
            "__________________________________________________________________________________________________\n",
            "bidirectional (Bidirectional)   [(None, 1000, 1000), 3204000     embedding[0][0]                  \n",
            "__________________________________________________________________________________________________\n",
            "embedding_1 (Embedding)         (None, None, 500)    12500000    input_2[0][0]                    \n",
            "__________________________________________________________________________________________________\n",
            "concatenate (Concatenate)       (None, 1000)         0           bidirectional[0][1]              \n",
            "                                                                 bidirectional[0][3]              \n",
            "__________________________________________________________________________________________________\n",
            "concatenate_1 (Concatenate)     (None, 1000)         0           bidirectional[0][2]              \n",
            "                                                                 bidirectional[0][4]              \n",
            "__________________________________________________________________________________________________\n",
            "lstm_decoder1 (LSTM)            [(None, None, 1000), 6004000     embedding_1[0][0]                \n",
            "                                                                 concatenate[0][0]                \n",
            "                                                                 concatenate_1[0][0]              \n",
            "__________________________________________________________________________________________________\n",
            "attention_layer (AttentionLayer ((None, None, 1000), 2001000     bidirectional[0][0]              \n",
            "                                                                 lstm_decoder1[0][0]              \n",
            "__________________________________________________________________________________________________\n",
            "concat (Concatenate)            (None, None, 2000)   0           lstm_decoder1[0][0]              \n",
            "                                                                 attention_layer[0][0]            \n",
            "__________________________________________________________________________________________________\n",
            "time_distributed (TimeDistribut (None, None, 25000)  50025000    concat[0][0]                     \n",
            "==================================================================================================\n",
            "Total params: 84,234,000\n",
            "Trainable params: 73,734,000\n",
            "Non-trainable params: 10,500,000\n",
            "__________________________________________________________________________________________________\n"
          ]
        }
      ],
      "source": [
        "from keras import backend as K \n",
        "K.clear_session() \n",
        "latent_dim = 500 \n",
        "\n",
        "# Encoder \n",
        "encoder_inputs1 = Input(shape=(max_len_article,)) \n",
        "enc_emb1 = Embedding(num_words_x, 300,input_length = x_tr1.shape[1],\n",
        "                    trainable = False, weights = [glove_emb_matrix1])(encoder_inputs1) \n",
        "\n",
        "encoder_lstm_layer1 = Bidirectional(LSTM(latent_dim, return_state=True, return_sequences = True, \n",
        "                                             name = 'lstm_encoder1'), merge_mode = 'concat')\n",
        "\n",
        "encoder_output1, forward_h1, forward_c1, backward_h1, backward_c1 = encoder_lstm_layer1(enc_emb1)\n",
        "\n",
        "state_h1 = Concatenate()([forward_h1, backward_h1])\n",
        "state_c1 = Concatenate()([forward_c1, backward_c1])\n",
        "encoder_states1 = [state_h1, state_c1]\n",
        "\n",
        "# Set up the decoder. \n",
        "decoder_inputs1 = Input(shape=(None,)) \n",
        "dec_emb_layer1 = Embedding(num_words_y,latent_dim, input_length=y_tr1.shape[1],trainable  = True) \n",
        "dec_emb1 = dec_emb_layer1(decoder_inputs1) \n",
        "\n",
        "#LSTM using encoder_states as initial state\n",
        "decoder_lstm_layer1 = LSTM(2*latent_dim, return_state=True, return_sequences = True, name = 'lstm_decoder1')\n",
        "decoder_output1 , decoder_h1, decoder_c1 = decoder_lstm_layer1(dec_emb1,\n",
        "                                                   initial_state = encoder_states1)\n",
        "\n",
        "attn_layer = AttentionLayer(name = 'attention_layer')\n",
        "\n",
        "######### -------------Attention layer---------------------------\n",
        "attn_out1, attn_states1 = attn_layer([encoder_output1, decoder_output1])\n",
        "decoder_concat_input1 = Concatenate(axis=-1, name='concat')([decoder_output1, attn_out1])\n",
        "\n",
        "\n",
        "\n",
        "#Dense layer\n",
        "decoder_dense1 = TimeDistributed(Dense(num_words_y, activation='softmax')) \n",
        "decoder_outputs1 = decoder_dense1(decoder_concat_input1) \n",
        "\n",
        "\n",
        "model1 = Model([encoder_inputs1,decoder_inputs1], decoder_outputs1) \n",
        "model1.compile(optimizer='rmsprop', loss='sparse_categorical_crossentropy')                                                          \n",
        "# using sparse_categorical entropy will solve memory problem                                                          \n",
        "model1.summary()"
      ]
    },
    {
      "cell_type": "markdown",
      "id": "inappropriate-cleanup",
      "metadata": {
        "papermill": {
          "duration": 0.086928,
          "end_time": "2022-04-28T09:05:55.633533",
          "exception": false,
          "start_time": "2022-04-28T09:05:55.546605",
          "status": "completed"
        },
        "tags": [],
        "id": "inappropriate-cleanup"
      },
      "source": [
        "stacked decoder more often need more epochs for training so for now we will not use them\n"
      ]
    },
    {
      "cell_type": "code",
      "execution_count": null,
      "id": "cosmetic-rental",
      "metadata": {
        "execution": {
          "iopub.execute_input": "2022-04-28T09:05:55.808769Z",
          "iopub.status.busy": "2022-04-28T09:05:55.807740Z",
          "iopub.status.idle": "2022-04-28T09:05:56.686389Z",
          "shell.execute_reply": "2022-04-28T09:05:56.685409Z",
          "shell.execute_reply.started": "2022-04-27T21:19:01.146158Z"
        },
        "papermill": {
          "duration": 0.966565,
          "end_time": "2022-04-28T09:05:56.686541",
          "exception": false,
          "start_time": "2022-04-28T09:05:55.719976",
          "status": "completed"
        },
        "tags": [],
        "id": "cosmetic-rental",
        "outputId": "7937d5e5-c4bd-4adb-9bf6-c26e5bca2626"
      },
      "outputs": [
        {
          "data": {
            "image/png": "[encoded data removed]",
            "text/plain": [
              "<IPython.core.display.Image object>"
            ]
          },
          "execution_count": 40,
          "metadata": {},
          "output_type": "execute_result"
        }
      ],
      "source": [
        "plot_model(model1, to_file='model.png', show_shapes=True)"
      ]
    },
    {
      "cell_type": "code",
      "execution_count": null,
      "id": "statistical-friday",
      "metadata": {
        "execution": {
          "iopub.execute_input": "2022-04-28T09:05:56.874199Z",
          "iopub.status.busy": "2022-04-28T09:05:56.873392Z",
          "iopub.status.idle": "2022-04-28T09:05:56.877883Z",
          "shell.execute_reply": "2022-04-28T09:05:56.877139Z",
          "shell.execute_reply.started": "2022-04-27T21:19:01.956549Z"
        },
        "papermill": {
          "duration": 0.102008,
          "end_time": "2022-04-28T09:05:56.878026",
          "exception": false,
          "start_time": "2022-04-28T09:05:56.776018",
          "status": "completed"
        },
        "tags": [],
        "id": "statistical-friday"
      },
      "outputs": [],
      "source": [
        "from tensorflow.keras.callbacks import ModelCheckpoint"
      ]
    },
    {
      "cell_type": "code",
      "execution_count": null,
      "id": "sensitive-contributor",
      "metadata": {
        "execution": {
          "iopub.execute_input": "2022-04-28T09:05:57.060019Z",
          "iopub.status.busy": "2022-04-28T09:05:57.059031Z",
          "iopub.status.idle": "2022-04-28T09:05:57.062506Z",
          "shell.execute_reply": "2022-04-28T09:05:57.062032Z",
          "shell.execute_reply.started": "2022-04-27T21:19:01.964412Z"
        },
        "papermill": {
          "duration": 0.09513,
          "end_time": "2022-04-28T09:05:57.062632",
          "exception": false,
          "start_time": "2022-04-28T09:05:56.967502",
          "status": "completed"
        },
        "tags": [],
        "id": "sensitive-contributor"
      },
      "outputs": [],
      "source": [
        "batch_size=16"
      ]
    },
    {
      "cell_type": "code",
      "execution_count": null,
      "id": "accepting-greek",
      "metadata": {
        "execution": {
          "iopub.execute_input": "2022-04-28T09:05:57.241809Z",
          "iopub.status.busy": "2022-04-28T09:05:57.240248Z",
          "iopub.status.idle": "2022-04-28T09:05:57.243999Z",
          "shell.execute_reply": "2022-04-28T09:05:57.243500Z",
          "shell.execute_reply.started": "2022-04-27T21:19:01.974292Z"
        },
        "papermill": {
          "duration": 0.095787,
          "end_time": "2022-04-28T09:05:57.244124",
          "exception": false,
          "start_time": "2022-04-28T09:05:57.148337",
          "status": "completed"
        },
        "tags": [],
        "id": "accepting-greek"
      },
      "outputs": [],
      "source": [
        "checkpoint_filepath = './cp-{epoch:04d}.ckpt'\n",
        "model_checkpoint_callback = tf.keras.callbacks.ModelCheckpoint(\n",
        "    filepath=checkpoint_filepath,\n",
        "    monitor='val_loss',\n",
        "    mode='min',\n",
        "    save_freq=5*batch_size)"
      ]
    },
    {
      "cell_type": "code",
      "execution_count": null,
      "id": "bored-celebrity",
      "metadata": {
        "execution": {
          "iopub.execute_input": "2022-04-28T09:05:57.428504Z",
          "iopub.status.busy": "2022-04-28T09:05:57.427298Z",
          "iopub.status.idle": "2022-04-28T09:05:57.430690Z",
          "shell.execute_reply": "2022-04-28T09:05:57.430179Z",
          "shell.execute_reply.started": "2022-04-27T21:19:01.983097Z"
        },
        "papermill": {
          "duration": 0.098873,
          "end_time": "2022-04-28T09:05:57.430839",
          "exception": false,
          "start_time": "2022-04-28T09:05:57.331966",
          "status": "completed"
        },
        "tags": [],
        "id": "bored-celebrity"
      },
      "outputs": [],
      "source": [
        "## defining callbacks \n",
        "import keras\n",
        "es = EarlyStopping(monitor='val_loss',patience = 10, mode='min', verbose=1)\n",
        "lr = keras.callbacks.ReduceLROnPlateau(monitor = 'val_loss', patience = 1, mode = 'min', verbose = 1)"
      ]
    },
    {
      "cell_type": "code",
      "execution_count": null,
      "id": "placed-marina",
      "metadata": {
        "execution": {
          "iopub.execute_input": "2022-04-28T09:05:57.612817Z",
          "iopub.status.busy": "2022-04-28T09:05:57.609840Z",
          "iopub.status.idle": "2022-04-28T09:05:57.615552Z",
          "shell.execute_reply": "2022-04-28T09:05:57.615013Z",
          "shell.execute_reply.started": "2022-04-27T21:19:01.991744Z"
        },
        "papermill": {
          "duration": 0.098643,
          "end_time": "2022-04-28T09:05:57.615714",
          "exception": false,
          "start_time": "2022-04-28T09:05:57.517071",
          "status": "completed"
        },
        "tags": [],
        "id": "placed-marina",
        "outputId": "7d8d376c-cd2a-4972-b5a8-22a8e526ee05"
      },
      "outputs": [
        {
          "name": "stdout",
          "output_type": "stream",
          "text": [
            "(38904, 1000) (38904, 90)\n"
          ]
        }
      ],
      "source": [
        "print(x_tr1.shape, y_tr1.shape)"
      ]
    },
    {
      "cell_type": "code",
      "execution_count": null,
      "id": "downtown-lying",
      "metadata": {
        "execution": {
          "iopub.execute_input": "2022-04-28T09:05:57.805667Z",
          "iopub.status.busy": "2022-04-28T09:05:57.805015Z",
          "iopub.status.idle": "2022-04-28T19:23:11.129441Z",
          "shell.execute_reply": "2022-04-28T19:23:11.130359Z",
          "shell.execute_reply.started": "2022-04-27T21:19:02.001163Z"
        },
        "papermill": {
          "duration": 37033.421601,
          "end_time": "2022-04-28T19:23:11.130676",
          "exception": false,
          "start_time": "2022-04-28T09:05:57.709075",
          "status": "completed"
        },
        "tags": [],
        "id": "downtown-lying",
        "outputId": "62210dc6-053e-4460-98ca-fa1aff4a5679"
      },
      "outputs": [
        {
          "name": "stdout",
          "output_type": "stream",
          "text": [
            "Epoch 1/7\n",
            "2432/2432 [==============================] - 5293s 2s/step - loss: 3.4217 - val_loss: 2.9671\n",
            "Epoch 2/7\n",
            "2432/2432 [==============================] - 5275s 2s/step - loss: 2.8880 - val_loss: 2.8584\n",
            "Epoch 3/7\n",
            "2432/2432 [==============================] - 5308s 2s/step - loss: 2.7342 - val_loss: 2.7929\n",
            "Epoch 4/7\n",
            "2432/2432 [==============================] - 5286s 2s/step - loss: 2.5864 - val_loss: 2.7099\n",
            "Epoch 5/7\n",
            "2432/2432 [==============================] - 5310s 2s/step - loss: 2.4278 - val_loss: 2.6327\n",
            "Epoch 6/7\n",
            "2432/2432 [==============================] - 5275s 2s/step - loss: 2.2710 - val_loss: 2.5883\n",
            "Epoch 7/7\n",
            "2432/2432 [==============================] - 5279s 2s/step - loss: 2.1259 - val_loss: 2.5633\n"
          ]
        }
      ],
      "source": [
        "history=model1.fit([x_tr1,y_tr1[:,:-1]], y_tr1.reshape(y_tr1.shape[0],y_tr1.shape[1], 1)[:,1:] ,epochs=7,\n",
        "                  callbacks=[es,lr,model_checkpoint_callback],\n",
        "                  batch_size=16, validation_data=([x_val1,y_val1[:,:-1]], y_val1.reshape(y_val1.shape[0],y_val1.shape[1], 1)[:,1:]))"
      ]
    },
    {
      "cell_type": "code",
      "execution_count": null,
      "id": "surrounded-deployment",
      "metadata": {
        "execution": {
          "iopub.execute_input": "2022-04-28T19:23:22.774919Z",
          "iopub.status.busy": "2022-04-28T19:23:22.768235Z",
          "iopub.status.idle": "2022-04-28T19:23:23.034069Z",
          "shell.execute_reply": "2022-04-28T19:23:23.034587Z",
          "shell.execute_reply.started": "2022-04-28T07:10:01.587115Z"
        },
        "papermill": {
          "duration": 6.309128,
          "end_time": "2022-04-28T19:23:23.034810",
          "exception": false,
          "start_time": "2022-04-28T19:23:16.725682",
          "status": "completed"
        },
        "tags": [],
        "id": "surrounded-deployment",
        "outputId": "cbf10d79-95a2-46f6-f84c-d9dfee32b721"
      },
      "outputs": [
        {
          "data": {
            "image/png": "[encoded data removed]",
            "text/plain": [
              "<Figure size 432x288 with 1 Axes>"
            ]
          },
          "metadata": {
            "image/png": {
              "height": 281,
              "width": 378
            }
          },
          "output_type": "display_data"
        }
      ],
      "source": [
        "plt.plot(history.history['val_loss'], color = 'r')\n",
        "plt.plot(history.history['loss'], color = 'b')\n",
        "plt.legend(['val_loss','loss'])\n",
        "plt.xlim(0,10)\n",
        "plt.xlabel('epochs')\n",
        "plt.title('learning curve')\n",
        "plt.show()"
      ]
    },
    {
      "cell_type": "markdown",
      "id": "involved-moisture",
      "metadata": {
        "papermill": {
          "duration": 5.944898,
          "end_time": "2022-04-28T19:23:34.456308",
          "exception": false,
          "start_time": "2022-04-28T19:23:28.511410",
          "status": "completed"
        },
        "tags": [],
        "id": "involved-moisture"
      },
      "source": [
        "### Inference Model "
      ]
    },
    {
      "cell_type": "code",
      "execution_count": null,
      "id": "competent-addition",
      "metadata": {
        "execution": {
          "iopub.execute_input": "2022-04-28T19:23:46.756353Z",
          "iopub.status.busy": "2022-04-28T19:23:46.755191Z",
          "iopub.status.idle": "2022-04-28T19:23:47.644899Z",
          "shell.execute_reply": "2022-04-28T19:23:47.645439Z",
          "shell.execute_reply.started": "2022-04-28T07:10:02.463556Z"
        },
        "papermill": {
          "duration": 7.56752,
          "end_time": "2022-04-28T19:23:47.645620",
          "exception": false,
          "start_time": "2022-04-28T19:23:40.078100",
          "status": "completed"
        },
        "tags": [],
        "id": "competent-addition",
        "outputId": "2dbf082d-20f9-4c0f-83ea-03bebe0c418c"
      },
      "outputs": [
        {
          "data": {
            "image/png": "[encoded data removed]",
            "text/plain": [
              "<IPython.core.display.Image object>"
            ]
          },
          "execution_count": 48,
          "metadata": {},
          "output_type": "execute_result"
        }
      ],
      "source": [
        "encoder_model1 = Model(encoder_inputs1, [encoder_output1,state_h1, state_c1])\n",
        "plot_model(encoder_model1,show_shapes=True)"
      ]
    },
    {
      "cell_type": "code",
      "execution_count": null,
      "id": "nearby-pendant",
      "metadata": {
        "execution": {
          "iopub.execute_input": "2022-04-28T19:23:59.009035Z",
          "iopub.status.busy": "2022-04-28T19:23:59.008023Z",
          "iopub.status.idle": "2022-04-28T19:23:59.443168Z",
          "shell.execute_reply": "2022-04-28T19:23:59.442588Z",
          "shell.execute_reply.started": "2022-04-28T07:10:02.018353Z"
        },
        "papermill": {
          "duration": 5.913995,
          "end_time": "2022-04-28T19:23:59.443317",
          "exception": false,
          "start_time": "2022-04-28T19:23:53.529322",
          "status": "completed"
        },
        "tags": [],
        "id": "nearby-pendant"
      },
      "outputs": [],
      "source": [
        "\n",
        "# now lets design our decoder model \n",
        "decoder_state_input_h1 = Input(shape=(2*latent_dim,))  # These states are required for feeding back to our next timestep decoder\n",
        "decoder_state_input_c1 = Input(shape=(2*latent_dim,))\n",
        "decoder_states_inputs1 = [decoder_state_input_h1, decoder_state_input_c1]\n",
        "decoder_hidden_state_input1 = Input(shape=(max_len_article,2*latent_dim)) # since we are using bidirectional lstm\n",
        "\n",
        "\n",
        "# Get the embeddings of the decoder sequence\n",
        "dec_emb1= dec_emb_layer1(decoder_inputs1) \n",
        "# To predict the next word in the sequence, set the initial states to the states from the previous time step\n",
        "decoder_output1, state_h21, state_c21 = decoder_lstm_layer1(dec_emb1, initial_state=decoder_states_inputs1)\n",
        "\n",
        "attn_out_inf1, attn_states_inf1 = attn_layer([decoder_hidden_state_input1, decoder_output1])\n",
        "decoder_inf_concat1 = Concatenate(axis=-1, name='concat')([decoder_output1, attn_out_inf1])\n",
        "\n",
        "\n",
        "# A dense softmax layer to generate prob dist. over the target vocabulary\n",
        "decoder_outputs1 = decoder_dense1(decoder_inf_concat1)\n",
        "\n",
        "# Final decoder model\n",
        "decoder_model1 = Model(\n",
        "[decoder_inputs1] + [decoder_hidden_state_input1,decoder_state_input_h1, decoder_state_input_c1],\n",
        "[decoder_outputs1] + [state_h21, state_c21])"
      ]
    },
    {
      "cell_type": "code",
      "execution_count": null,
      "id": "italic-digit",
      "metadata": {
        "execution": {
          "iopub.status.busy": "2022-04-28T07:10:04.087970Z",
          "iopub.status.idle": "2022-04-28T07:10:04.088883Z"
        },
        "papermill": {
          "duration": null,
          "end_time": null,
          "exception": null,
          "start_time": null,
          "status": "pending"
        },
        "tags": [],
        "id": "italic-digit"
      },
      "outputs": [],
      "source": [
        "plot_model(decoder_model1,show_shapes = True)"
      ]
    },
    {
      "cell_type": "code",
      "execution_count": null,
      "id": "super-island",
      "metadata": {
        "execution": {
          "iopub.execute_input": "2022-04-28T07:24:21.060212Z",
          "iopub.status.busy": "2022-04-28T07:24:21.059844Z",
          "iopub.status.idle": "2022-04-28T07:24:21.065037Z",
          "shell.execute_reply": "2022-04-28T07:24:21.063997Z",
          "shell.execute_reply.started": "2022-04-28T07:24:21.060180Z"
        },
        "papermill": {
          "duration": null,
          "end_time": null,
          "exception": null,
          "start_time": null,
          "status": "pending"
        },
        "tags": [],
        "id": "super-island"
      },
      "outputs": [],
      "source": [
        "# defined a new variable to change words2index nd index2words\n",
        "reverse_target_word_index1=y_tokenizer1.index_word\n",
        "reverse_source_word_index1=x_tokenizer1.index_word\n",
        "target_word_index1=y_tokenizer1.word_index"
      ]
    },
    {
      "cell_type": "code",
      "execution_count": null,
      "id": "general-remove",
      "metadata": {
        "execution": {
          "iopub.execute_input": "2022-04-28T07:24:22.564232Z",
          "iopub.status.busy": "2022-04-28T07:24:22.563883Z",
          "iopub.status.idle": "2022-04-28T07:24:22.573585Z",
          "shell.execute_reply": "2022-04-28T07:24:22.571584Z",
          "shell.execute_reply.started": "2022-04-28T07:24:22.564203Z"
        },
        "papermill": {
          "duration": null,
          "end_time": null,
          "exception": null,
          "start_time": null,
          "status": "pending"
        },
        "tags": [],
        "id": "general-remove"
      },
      "outputs": [],
      "source": [
        "# function for prediction of whole sentence by using loop\n",
        "def decode_sequence(input_seq):\n",
        "    # Encode the input as state vectors.\n",
        "    e_out1,e_h1, e_c1 = encoder_model1.predict(input_seq)\n",
        "    \n",
        "    # Generate empty target sequence of length 1.\n",
        "    target_seq1 = np.zeros((1,1))\n",
        "    \n",
        "    # Populate the first word of target sequence with the start word.\n",
        "    target_seq1[0, 0] = target_word_index1['sostok']\n",
        "\n",
        "    stop_condition = False\n",
        "    decoded_sentence1 = ''\n",
        "    while not stop_condition:\n",
        "      \n",
        "        output_tokens1, h1, c1 = decoder_model1.predict([target_seq1] + [e_out1,e_h1, e_c1])\n",
        "\n",
        "        # Sample a token\n",
        "        sampled_token_index1 = np.argmax(output_tokens1[0, -1, :])\n",
        "        sampled_token1 = reverse_target_word_index1[sampled_token_index1]\n",
        "        \n",
        "        if(sampled_token1!='eostok'):\n",
        "            decoded_sentence1 += ' '+sampled_token1\n",
        "\n",
        "        # Exit condition: either hit max length or find stop word.\n",
        "        if (sampled_token1 == 'eostok'  or len(decoded_sentence1.split()) >= (max_len_highlights-1)):\n",
        "            stop_condition = True\n",
        "\n",
        "        # Update the target sequence (of length 1).\n",
        "        target_seq1 = np.zeros((1,1))\n",
        "        target_seq1[0, 0] = sampled_token_index1\n",
        "\n",
        "        # Update internal states\n",
        "        e_h1, e_c1 = h1, c1\n",
        "\n",
        "    return decoded_sentence1"
      ]
    },
    {
      "cell_type": "code",
      "execution_count": null,
      "id": "marked-empire",
      "metadata": {
        "execution": {
          "iopub.status.busy": "2022-04-28T07:10:04.094390Z",
          "iopub.status.idle": "2022-04-28T07:10:04.095077Z"
        },
        "papermill": {
          "duration": null,
          "end_time": null,
          "exception": null,
          "start_time": null,
          "status": "pending"
        },
        "tags": [],
        "id": "marked-empire"
      },
      "outputs": [],
      "source": [
        "x_val1.shape"
      ]
    },
    {
      "cell_type": "code",
      "execution_count": null,
      "id": "silver-hopkins",
      "metadata": {
        "execution": {
          "iopub.execute_input": "2022-04-28T07:24:27.433342Z",
          "iopub.status.busy": "2022-04-28T07:24:27.432959Z",
          "iopub.status.idle": "2022-04-28T07:24:29.603704Z",
          "shell.execute_reply": "2022-04-28T07:24:29.602740Z",
          "shell.execute_reply.started": "2022-04-28T07:24:27.433309Z"
        },
        "papermill": {
          "duration": null,
          "end_time": null,
          "exception": null,
          "start_time": null,
          "status": "pending"
        },
        "tags": [],
        "id": "silver-hopkins"
      },
      "outputs": [],
      "source": [
        "## Testing phase \n",
        "decode_sequence(np.array(x_val1[0]).reshape(1,1000))"
      ]
    },
    {
      "cell_type": "code",
      "execution_count": null,
      "id": "brave-wheel",
      "metadata": {
        "execution": {
          "iopub.execute_input": "2022-04-28T07:24:44.736181Z",
          "iopub.status.busy": "2022-04-28T07:24:44.735802Z",
          "iopub.status.idle": "2022-04-28T07:24:44.742223Z",
          "shell.execute_reply": "2022-04-28T07:24:44.741275Z",
          "shell.execute_reply.started": "2022-04-28T07:24:44.736149Z"
        },
        "papermill": {
          "duration": null,
          "end_time": null,
          "exception": null,
          "start_time": null,
          "status": "pending"
        },
        "tags": [],
        "id": "brave-wheel"
      },
      "outputs": [],
      "source": [
        "def seq2summary(input_seq):\n",
        "    newString=''\n",
        "    for i in input_seq:\n",
        "        if((i!=0 and i!=target_word_index1['sostok']) and i!=target_word_index1['eostok']):\n",
        "            newString=newString+reverse_target_word_index1[i]+' '\n",
        "    return newString\n",
        "\n",
        "def seq2text(input_seq):\n",
        "    newString=''\n",
        "    for i in input_seq:\n",
        "        if(i!=0):\n",
        "            newString=newString+reverse_source_word_index1[i]+' '\n",
        "    return newString"
      ]
    },
    {
      "cell_type": "code",
      "execution_count": null,
      "id": "infinite-drilling",
      "metadata": {
        "execution": {
          "iopub.execute_input": "2022-04-28T08:04:03.114200Z",
          "iopub.status.busy": "2022-04-28T08:04:03.113876Z",
          "iopub.status.idle": "2022-04-28T08:06:02.045903Z",
          "shell.execute_reply": "2022-04-28T08:06:02.045013Z",
          "shell.execute_reply.started": "2022-04-28T08:04:03.114171Z"
        },
        "papermill": {
          "duration": null,
          "end_time": null,
          "exception": null,
          "start_time": null,
          "status": "pending"
        },
        "tags": [],
        "id": "infinite-drilling"
      },
      "outputs": [],
      "source": [
        "dict1 = {'article':[], 'original_summary':[], 'pred_summary':[]}\n",
        "\n",
        "for i in range(50):\n",
        "    dict1['article'].append(x_val1[i])\n",
        "    dict1['original_summary'].append(seq2summary(y_val1[i]))\n",
        "    dict1['pred_summary'].append(decode_sequence(x_val1[i].reshape(1,max_len_article)))\n",
        "\n",
        "predicted_df1 = pd.DataFrame.from_dict(dict1)"
      ]
    },
    {
      "cell_type": "code",
      "execution_count": null,
      "id": "needed-apparel",
      "metadata": {
        "execution": {
          "iopub.execute_input": "2022-04-28T08:06:02.048505Z",
          "iopub.status.busy": "2022-04-28T08:06:02.048175Z",
          "iopub.status.idle": "2022-04-28T08:06:02.192217Z",
          "shell.execute_reply": "2022-04-28T08:06:02.191158Z",
          "shell.execute_reply.started": "2022-04-28T08:06:02.048471Z"
        },
        "papermill": {
          "duration": null,
          "end_time": null,
          "exception": null,
          "start_time": null,
          "status": "pending"
        },
        "tags": [],
        "id": "needed-apparel"
      },
      "outputs": [],
      "source": [
        "predicted_df1.to_csv('predicted_df1.csv', index = False)"
      ]
    },
    {
      "cell_type": "code",
      "execution_count": null,
      "id": "noble-alcohol",
      "metadata": {
        "execution": {
          "iopub.execute_input": "2022-04-28T08:06:02.194604Z",
          "iopub.status.busy": "2022-04-28T08:06:02.194235Z",
          "iopub.status.idle": "2022-04-28T08:06:02.201355Z",
          "shell.execute_reply": "2022-04-28T08:06:02.200368Z",
          "shell.execute_reply.started": "2022-04-28T08:06:02.194568Z"
        },
        "papermill": {
          "duration": null,
          "end_time": null,
          "exception": null,
          "start_time": null,
          "status": "pending"
        },
        "tags": [],
        "id": "noble-alcohol"
      },
      "outputs": [],
      "source": [
        "from IPython.display import FileLink\n",
        "FileLink(r'predicted_df1.csv')"
      ]
    },
    {
      "cell_type": "code",
      "execution_count": null,
      "id": "relevant-wonder",
      "metadata": {
        "execution": {
          "iopub.execute_input": "2022-04-28T08:06:15.326975Z",
          "iopub.status.busy": "2022-04-28T08:06:15.326619Z",
          "iopub.status.idle": "2022-04-28T08:06:40.373883Z",
          "shell.execute_reply": "2022-04-28T08:06:40.372836Z",
          "shell.execute_reply.started": "2022-04-28T08:06:15.326944Z"
        },
        "papermill": {
          "duration": null,
          "end_time": null,
          "exception": null,
          "start_time": null,
          "status": "pending"
        },
        "tags": [],
        "id": "relevant-wonder"
      },
      "outputs": [],
      "source": [
        "for i in range(0,10):\n",
        "#     print(\"Review:\",seq2text(x_val1[i]))\n",
        "    print(\"Original summary:\",seq2summary(y_val1[i]))\n",
        "    print(\"Predicted summary:\",decode_sequence(x_val1[i].reshape(1,max_len_article)))\n",
        "    print(\"\\n\")"
      ]
    },
    {
      "cell_type": "code",
      "execution_count": null,
      "id": "demographic-medium",
      "metadata": {
        "execution": {
          "iopub.execute_input": "2022-04-08T01:29:27.20674Z",
          "iopub.status.busy": "2022-04-08T01:29:27.206343Z",
          "iopub.status.idle": "2022-04-08T01:29:33.596344Z",
          "shell.execute_reply": "2022-04-08T01:29:33.595467Z",
          "shell.execute_reply.started": "2022-04-08T01:29:27.206703Z"
        },
        "papermill": {
          "duration": null,
          "end_time": null,
          "exception": null,
          "start_time": null,
          "status": "pending"
        },
        "tags": [],
        "id": "demographic-medium"
      },
      "outputs": [],
      "source": [
        "pip install rouge"
      ]
    },
    {
      "cell_type": "code",
      "execution_count": null,
      "id": "olive-excitement",
      "metadata": {
        "execution": {
          "iopub.execute_input": "2022-04-08T01:32:47.262444Z",
          "iopub.status.busy": "2022-04-08T01:32:47.262073Z",
          "iopub.status.idle": "2022-04-08T01:32:47.267415Z",
          "shell.execute_reply": "2022-04-08T01:32:47.26623Z",
          "shell.execute_reply.started": "2022-04-08T01:32:47.26241Z"
        },
        "papermill": {
          "duration": null,
          "end_time": null,
          "exception": null,
          "start_time": null,
          "status": "pending"
        },
        "tags": [],
        "id": "olive-excitement"
      },
      "outputs": [],
      "source": [
        "from rouge import Rouge"
      ]
    },
    {
      "cell_type": "code",
      "execution_count": null,
      "id": "dutch-sleeve",
      "metadata": {
        "execution": {
          "iopub.execute_input": "2022-04-08T01:32:49.866716Z",
          "iopub.status.busy": "2022-04-08T01:32:49.86635Z",
          "iopub.status.idle": "2022-04-08T01:33:11.884198Z",
          "shell.execute_reply": "2022-04-08T01:33:11.883464Z",
          "shell.execute_reply.started": "2022-04-08T01:32:49.866684Z"
        },
        "papermill": {
          "duration": null,
          "end_time": null,
          "exception": null,
          "start_time": null,
          "status": "pending"
        },
        "tags": [],
        "id": "dutch-sleeve"
      },
      "outputs": [],
      "source": [
        "rouge = Rouge()\n",
        "\n",
        "for i in range(0,10):\n",
        "    scores = rouge.get_scores(seq2summary(y_val1[i]), decode_sequence(x_val1[i].reshape(1,max_len_article)))\n",
        "    print(scores)"
      ]
    },
    {
      "cell_type": "code",
      "execution_count": null,
      "id": "announced-appendix",
      "metadata": {
        "execution": {
          "iopub.execute_input": "2022-04-28T08:14:10.350557Z",
          "iopub.status.busy": "2022-04-28T08:14:10.350227Z",
          "iopub.status.idle": "2022-04-28T08:14:10.394326Z",
          "shell.execute_reply": "2022-04-28T08:14:10.392862Z",
          "shell.execute_reply.started": "2022-04-28T08:14:10.350527Z"
        },
        "papermill": {
          "duration": null,
          "end_time": null,
          "exception": null,
          "start_time": null,
          "status": "pending"
        },
        "tags": [],
        "id": "announced-appendix"
      },
      "outputs": [],
      "source": [
        "model = tf.keras.models.load_model('./cp-0007.ckpt/saved_model.pb')"
      ]
    },
    {
      "cell_type": "code",
      "execution_count": null,
      "id": "cleared-worry",
      "metadata": {
        "execution": {
          "iopub.execute_input": "2022-04-28T08:17:48.951943Z",
          "iopub.status.busy": "2022-04-28T08:17:48.951593Z",
          "iopub.status.idle": "2022-04-28T08:17:48.957978Z",
          "shell.execute_reply": "2022-04-28T08:17:48.956826Z",
          "shell.execute_reply.started": "2022-04-28T08:17:48.951912Z"
        },
        "papermill": {
          "duration": null,
          "end_time": null,
          "exception": null,
          "start_time": null,
          "status": "pending"
        },
        "tags": [],
        "id": "cleared-worry"
      },
      "outputs": [],
      "source": [
        "def load_pb(path_to_pb):\n",
        "    with tf.gfile.GFile(path_to_pb, \"rb\") as f:\n",
        "        graph_def = tf.GraphDef()\n",
        "        graph_def.ParseFromString(f.read())\n",
        "    with tf.Graph().as_default() as graph:\n",
        "        tf.import_graph_def(graph_def, name='')\n",
        "        return graph"
      ]
    },
    {
      "cell_type": "code",
      "execution_count": null,
      "id": "alike-enlargement",
      "metadata": {
        "execution": {
          "iopub.execute_input": "2022-04-28T08:17:51.414539Z",
          "iopub.status.busy": "2022-04-28T08:17:51.414221Z",
          "iopub.status.idle": "2022-04-28T08:17:51.460589Z",
          "shell.execute_reply": "2022-04-28T08:17:51.459143Z",
          "shell.execute_reply.started": "2022-04-28T08:17:51.414508Z"
        },
        "papermill": {
          "duration": null,
          "end_time": null,
          "exception": null,
          "start_time": null,
          "status": "pending"
        },
        "tags": [],
        "id": "alike-enlargement"
      },
      "outputs": [],
      "source": [
        "graph = load_pb('./cp-0007.ckpt/saved_model.pb')"
      ]
    },
    {
      "cell_type": "code",
      "execution_count": null,
      "id": "pressing-produce",
      "metadata": {
        "execution": {
          "iopub.execute_input": "2022-04-28T08:18:05.421873Z",
          "iopub.status.busy": "2022-04-28T08:18:05.421535Z",
          "iopub.status.idle": "2022-04-28T08:18:05.460889Z",
          "shell.execute_reply": "2022-04-28T08:18:05.459454Z",
          "shell.execute_reply.started": "2022-04-28T08:18:05.421843Z"
        },
        "papermill": {
          "duration": null,
          "end_time": null,
          "exception": null,
          "start_time": null,
          "status": "pending"
        },
        "tags": [],
        "id": "pressing-produce"
      },
      "outputs": [],
      "source": [
        "from tensorflow import gfile"
      ]
    },
    {
      "cell_type": "code",
      "execution_count": null,
      "id": "working-seeker",
      "metadata": {
        "papermill": {
          "duration": null,
          "end_time": null,
          "exception": null,
          "start_time": null,
          "status": "pending"
        },
        "tags": [],
        "id": "working-seeker"
      },
      "outputs": [],
      "source": [
        ""
      ]
    },
    {
      "cell_type": "code",
      "execution_count": null,
      "id": "filled-railway",
      "metadata": {
        "papermill": {
          "duration": null,
          "end_time": null,
          "exception": null,
          "start_time": null,
          "status": "pending"
        },
        "tags": [],
        "id": "filled-railway"
      },
      "outputs": [],
      "source": [
        ""
      ]
    }
  ],
  "metadata": {
    "kernelspec": {
      "display_name": "Python 3",
      "language": "python",
      "name": "python3"
    },
    "language_info": {
      "codemirror_mode": {
        "name": "ipython",
        "version": 3
      },
      "file_extension": ".py",
      "mimetype": "text/x-python",
      "name": "python",
      "nbconvert_exporter": "python",
      "pygments_lexer": "ipython3",
      "version": "3.7.9"
    },
    "papermill": {
      "default_parameters": {},
      "duration": 39938.388652,
      "end_time": "2022-04-28T19:24:22.687325",
      "environment_variables": {},
      "exception": true,
      "input_path": "__notebook__.ipynb",
      "output_path": "__notebook__.ipynb",
      "parameters": {},
      "start_time": "2022-04-28T08:18:44.298673",
      "version": "2.3.2"
    },
    "colab": {
      "name": "Bidirectional LSTM RNN with Attention.ipynb",
      "provenance": [],
      "include_colab_link": true
    }
  },
  "nbformat": 4,
  "nbformat_minor": 5
}